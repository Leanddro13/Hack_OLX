{
 "cells": [
  {
   "cell_type": "markdown",
   "metadata": {},
   "source": [
    "# Classificador de de possíveis golpes"
   ]
  },
  {
   "cell_type": "code",
   "execution_count": 19,
   "metadata": {},
   "outputs": [],
   "source": [
    "import pandas as pd\n",
    "import string\n",
    "import re\n",
    "import spacy\n",
    "from unidecode import unidecode"
   ]
  },
  {
   "cell_type": "markdown",
   "metadata": {},
   "source": [
    "### Função para pré-processamento:\n",
    "- Transformam todos os caracteres em minusculas;\n",
    "- Remove as acentuações\n",
    "- Remove as pontuações\n",
    "- Remove números"
   ]
  },
  {
   "cell_type": "code",
   "execution_count": 20,
   "metadata": {},
   "outputs": [],
   "source": [
    "def cleaner(texto):\n",
    "        texto = unidecode(texto)\n",
    "        texto = texto.lower()\n",
    "        texto = texto.translate(str.maketrans('','', string.punctuation))\n",
    "        texto = re.sub(r'[0-9]+', '', texto)\n",
    "        return texto"
   ]
  },
  {
   "cell_type": "code",
   "execution_count": 21,
   "metadata": {},
   "outputs": [
    {
     "data": {
      "text/html": [
       "<div>\n",
       "<style scoped>\n",
       "    .dataframe tbody tr th:only-of-type {\n",
       "        vertical-align: middle;\n",
       "    }\n",
       "\n",
       "    .dataframe tbody tr th {\n",
       "        vertical-align: top;\n",
       "    }\n",
       "\n",
       "    .dataframe thead th {\n",
       "        text-align: right;\n",
       "    }\n",
       "</style>\n",
       "<table border=\"1\" class=\"dataframe\">\n",
       "  <thead>\n",
       "    <tr style=\"text-align: right;\">\n",
       "      <th></th>\n",
       "      <th>v1</th>\n",
       "      <th>v2</th>\n",
       "      <th>Unnamed: 2</th>\n",
       "      <th>Unnamed: 3</th>\n",
       "      <th>Unnamed: 4</th>\n",
       "    </tr>\n",
       "  </thead>\n",
       "  <tbody>\n",
       "    <tr>\n",
       "      <th>0</th>\n",
       "      <td>ham</td>\n",
       "      <td>Go until jurong point, crazy.. Available only ...</td>\n",
       "      <td>NaN</td>\n",
       "      <td>NaN</td>\n",
       "      <td>NaN</td>\n",
       "    </tr>\n",
       "    <tr>\n",
       "      <th>1</th>\n",
       "      <td>ham</td>\n",
       "      <td>Ok lar... Joking wif u oni...</td>\n",
       "      <td>NaN</td>\n",
       "      <td>NaN</td>\n",
       "      <td>NaN</td>\n",
       "    </tr>\n",
       "    <tr>\n",
       "      <th>2</th>\n",
       "      <td>spam</td>\n",
       "      <td>Free entry in 2 a wkly comp to win FA Cup fina...</td>\n",
       "      <td>NaN</td>\n",
       "      <td>NaN</td>\n",
       "      <td>NaN</td>\n",
       "    </tr>\n",
       "    <tr>\n",
       "      <th>3</th>\n",
       "      <td>ham</td>\n",
       "      <td>U dun say so early hor... U c already then say...</td>\n",
       "      <td>NaN</td>\n",
       "      <td>NaN</td>\n",
       "      <td>NaN</td>\n",
       "    </tr>\n",
       "    <tr>\n",
       "      <th>4</th>\n",
       "      <td>ham</td>\n",
       "      <td>Nah I don't think he goes to usf, he lives aro...</td>\n",
       "      <td>NaN</td>\n",
       "      <td>NaN</td>\n",
       "      <td>NaN</td>\n",
       "    </tr>\n",
       "  </tbody>\n",
       "</table>\n",
       "</div>"
      ],
      "text/plain": [
       "     v1                                                 v2 Unnamed: 2  \\\n",
       "0   ham  Go until jurong point, crazy.. Available only ...        NaN   \n",
       "1   ham                      Ok lar... Joking wif u oni...        NaN   \n",
       "2  spam  Free entry in 2 a wkly comp to win FA Cup fina...        NaN   \n",
       "3   ham  U dun say so early hor... U c already then say...        NaN   \n",
       "4   ham  Nah I don't think he goes to usf, he lives aro...        NaN   \n",
       "\n",
       "  Unnamed: 3 Unnamed: 4  \n",
       "0        NaN        NaN  \n",
       "1        NaN        NaN  \n",
       "2        NaN        NaN  \n",
       "3        NaN        NaN  \n",
       "4        NaN        NaN  "
      ]
     },
     "execution_count": 21,
     "metadata": {},
     "output_type": "execute_result"
    }
   ],
   "source": [
    "df = pd.read_csv('./spam.csv', encoding = \"ISO-8859-1\")\n",
    "df.head()"
   ]
  },
  {
   "cell_type": "markdown",
   "metadata": {},
   "source": [
    "### Preparando a tabela para o treinamento:\n",
    "- Com a função cleaner limpamos a tabela"
   ]
  },
  {
   "cell_type": "code",
   "execution_count": 22,
   "metadata": {},
   "outputs": [
    {
     "data": {
      "text/html": [
       "<div>\n",
       "<style scoped>\n",
       "    .dataframe tbody tr th:only-of-type {\n",
       "        vertical-align: middle;\n",
       "    }\n",
       "\n",
       "    .dataframe tbody tr th {\n",
       "        vertical-align: top;\n",
       "    }\n",
       "\n",
       "    .dataframe thead th {\n",
       "        text-align: right;\n",
       "    }\n",
       "</style>\n",
       "<table border=\"1\" class=\"dataframe\">\n",
       "  <thead>\n",
       "    <tr style=\"text-align: right;\">\n",
       "      <th></th>\n",
       "      <th>v1</th>\n",
       "      <th>v2</th>\n",
       "      <th>Unnamed: 2</th>\n",
       "      <th>Unnamed: 3</th>\n",
       "      <th>Unnamed: 4</th>\n",
       "    </tr>\n",
       "  </thead>\n",
       "  <tbody>\n",
       "    <tr>\n",
       "      <th>0</th>\n",
       "      <td>ham</td>\n",
       "      <td>go until jurong point crazy available only in ...</td>\n",
       "      <td>NaN</td>\n",
       "      <td>NaN</td>\n",
       "      <td>NaN</td>\n",
       "    </tr>\n",
       "    <tr>\n",
       "      <th>1</th>\n",
       "      <td>ham</td>\n",
       "      <td>ok lar joking wif u oni</td>\n",
       "      <td>NaN</td>\n",
       "      <td>NaN</td>\n",
       "      <td>NaN</td>\n",
       "    </tr>\n",
       "    <tr>\n",
       "      <th>2</th>\n",
       "      <td>spam</td>\n",
       "      <td>free entry in  a wkly comp to win fa cup final...</td>\n",
       "      <td>NaN</td>\n",
       "      <td>NaN</td>\n",
       "      <td>NaN</td>\n",
       "    </tr>\n",
       "    <tr>\n",
       "      <th>3</th>\n",
       "      <td>ham</td>\n",
       "      <td>u dun say so early hor u c already then say</td>\n",
       "      <td>NaN</td>\n",
       "      <td>NaN</td>\n",
       "      <td>NaN</td>\n",
       "    </tr>\n",
       "    <tr>\n",
       "      <th>4</th>\n",
       "      <td>ham</td>\n",
       "      <td>nah i dont think he goes to usf he lives aroun...</td>\n",
       "      <td>NaN</td>\n",
       "      <td>NaN</td>\n",
       "      <td>NaN</td>\n",
       "    </tr>\n",
       "  </tbody>\n",
       "</table>\n",
       "</div>"
      ],
      "text/plain": [
       "     v1                                                 v2 Unnamed: 2  \\\n",
       "0   ham  go until jurong point crazy available only in ...        NaN   \n",
       "1   ham                            ok lar joking wif u oni        NaN   \n",
       "2  spam  free entry in  a wkly comp to win fa cup final...        NaN   \n",
       "3   ham        u dun say so early hor u c already then say        NaN   \n",
       "4   ham  nah i dont think he goes to usf he lives aroun...        NaN   \n",
       "\n",
       "  Unnamed: 3 Unnamed: 4  \n",
       "0        NaN        NaN  \n",
       "1        NaN        NaN  \n",
       "2        NaN        NaN  \n",
       "3        NaN        NaN  \n",
       "4        NaN        NaN  "
      ]
     },
     "execution_count": 22,
     "metadata": {},
     "output_type": "execute_result"
    }
   ],
   "source": [
    "df['v2'] = df['v2'].apply(cleaner)\n",
    "df.head()"
   ]
  },
  {
   "cell_type": "markdown",
   "metadata": {},
   "source": [
    "### Remoção das Stop Words\n",
    "Stop Words são palavras que não agregam nenhum sentido na frase, como artigos e preposições"
   ]
  },
  {
   "cell_type": "code",
   "execution_count": 23,
   "metadata": {},
   "outputs": [
    {
     "name": "stdout",
     "output_type": "stream",
     "text": [
      "{'wherein', 'six', 'side', 'hundred', 'how', 'herein', 'just', 'whatever', 'whither', 'seeming', 'though', 'via', 'were', 'off', 'same', 'on', 'but', 'that', 'two', 'nine', 'nothing', 'due', 'throughout', 'hence', 'at', 'than', \"'s\", 'hers', 'if', 'have', 'along', 'very', 'with', 'should', 'until', 'been', 'forty', 'part', '’d', 'about', 'any', 'again', 'you', 'becomes', 'has', 'and', 'whose', 'before', 'whereas', 'mine', 'me', 'quite', 'not', 'am', 'themselves', 'something', 'she', 'whoever', 'name', 'or', 'nobody', 'still', 'everywhere', 'full', '‘d', 'done', 'across', 'they', 'sixty', \"n't\", 'keep', 'for', '‘ll', 'put', \"'ve\", 'we', 'them', 'fifteen', 'whereby', 'first', 'namely', 'myself', 'further', 'yourselves', 'anyhow', 'an', 'what', 'except', 'thereupon', 'always', 'everything', 'amount', 'hereafter', '‘re', 'hereupon', 'whereafter', 'his', 'meanwhile', 'himself', 'however', 'all', 'less', 'regarding', 'when', 'sometimes', 'who', \"'re\", 'behind', 'besides', 'used', 'cannot', 'thus', 'up', 'take', 'eleven', 'never', 'next', 'be', 'among', 'their', 'as', 'each', 'therefore', 'here', 'become', '’m', 'hereby', 'nowhere', 'the', 'few', 'beyond', 'say', 'through', 'someone', 'every', 'using', 'anything', 'did', 'anywhere', 'n’t', 'three', 'could', 'why', 'in', 'give', 'are', 'nevertheless', 'can', 'doing', 'many', 'seems', 'within', 'almost', 'together', 'twelve', 'whether', 'my', 'since', 'made', 'thereafter', \"'m\", 'else', 'show', 'perhaps', 'became', 'by', 'enough', 'rather', 'please', 'us', 'somewhere', 'twenty', 'thence', 'ten', 'somehow', 'so', 'he', 'beforehand', 'into', 'others', \"'d\", 'below', '‘s', 'towards', 'alone', 'also', 'much', 'under', 'between', 'seem', 'empty', 'those', 'noone', 'your', 'none', 'ourselves', 'over', 'toward', 'least', 'during', 'becoming', 'around', 'often', 'was', 'will', '‘m', 'him', 'elsewhere', 'these', 'after', 'see', 'our', 'to', 'everyone', 'a', 'several', 'of', 'wherever', 'which', 'without', 'now', 'therein', 'herself', 'unless', 'whereupon', 'nor', 'get', 'this', 'although', 'make', 'formerly', 'latterly', 'third', 'move', 'beside', 'last', 'from', 'is', 'neither', 'her', '’s', 'above', 'where', 'might', 'indeed', 'yet', '‘ve', 'already', 'its', 'other', 'then', 'while', 'call', 'i', 'serious', 'some', 'may', 'front', 'most', 'out', 'too', 'own', 'only', 'eight', 'four', 'there', 'it', 'no', 'had', \"'ll\", 'another', 'upon', 'yourself', 'whenever', 'anyway', 'mostly', 'amongst', 'whence', 'thru', 'well', '’ve', 'either', 'yours', 'afterwards', 'fifty', 'ours', 'back', 'against', 'former', 'thereby', 'both', 'latter', 'does', 'must', 'once', 'bottom', 'per', 'whom', 'otherwise', 'would', 'down', 'really', 'go', 'seemed', '’ll', 'moreover', 'do', 'ever', 'n‘t', 'because', '’re', 'being', 're', 'top', 'onto', 'five', 'itself', 'more', 'even', 'ca', 'whole', 'anyone', 'one', 'such', 'various', 'sometime'}\n"
     ]
    },
    {
     "data": {
      "text/html": [
       "<div>\n",
       "<style scoped>\n",
       "    .dataframe tbody tr th:only-of-type {\n",
       "        vertical-align: middle;\n",
       "    }\n",
       "\n",
       "    .dataframe tbody tr th {\n",
       "        vertical-align: top;\n",
       "    }\n",
       "\n",
       "    .dataframe thead th {\n",
       "        text-align: right;\n",
       "    }\n",
       "</style>\n",
       "<table border=\"1\" class=\"dataframe\">\n",
       "  <thead>\n",
       "    <tr style=\"text-align: right;\">\n",
       "      <th></th>\n",
       "      <th>v1</th>\n",
       "      <th>v2</th>\n",
       "      <th>Unnamed: 2</th>\n",
       "      <th>Unnamed: 3</th>\n",
       "      <th>Unnamed: 4</th>\n",
       "    </tr>\n",
       "  </thead>\n",
       "  <tbody>\n",
       "    <tr>\n",
       "      <th>0</th>\n",
       "      <td>ham</td>\n",
       "      <td>jurong point crazy available bugis n great wor...</td>\n",
       "      <td>NaN</td>\n",
       "      <td>NaN</td>\n",
       "      <td>NaN</td>\n",
       "    </tr>\n",
       "    <tr>\n",
       "      <th>1</th>\n",
       "      <td>ham</td>\n",
       "      <td>ok lar joking wif u oni</td>\n",
       "      <td>NaN</td>\n",
       "      <td>NaN</td>\n",
       "      <td>NaN</td>\n",
       "    </tr>\n",
       "    <tr>\n",
       "      <th>2</th>\n",
       "      <td>spam</td>\n",
       "      <td>free entry wkly comp win fa cup final tkts st ...</td>\n",
       "      <td>NaN</td>\n",
       "      <td>NaN</td>\n",
       "      <td>NaN</td>\n",
       "    </tr>\n",
       "    <tr>\n",
       "      <th>3</th>\n",
       "      <td>ham</td>\n",
       "      <td>u dun early hor u c</td>\n",
       "      <td>NaN</td>\n",
       "      <td>NaN</td>\n",
       "      <td>NaN</td>\n",
       "    </tr>\n",
       "    <tr>\n",
       "      <th>4</th>\n",
       "      <td>ham</td>\n",
       "      <td>nah dont think goes usf lives</td>\n",
       "      <td>NaN</td>\n",
       "      <td>NaN</td>\n",
       "      <td>NaN</td>\n",
       "    </tr>\n",
       "  </tbody>\n",
       "</table>\n",
       "</div>"
      ],
      "text/plain": [
       "     v1                                                 v2 Unnamed: 2  \\\n",
       "0   ham  jurong point crazy available bugis n great wor...        NaN   \n",
       "1   ham                            ok lar joking wif u oni        NaN   \n",
       "2  spam  free entry wkly comp win fa cup final tkts st ...        NaN   \n",
       "3   ham                                u dun early hor u c        NaN   \n",
       "4   ham                      nah dont think goes usf lives        NaN   \n",
       "\n",
       "  Unnamed: 3 Unnamed: 4  \n",
       "0        NaN        NaN  \n",
       "1        NaN        NaN  \n",
       "2        NaN        NaN  \n",
       "3        NaN        NaN  \n",
       "4        NaN        NaN  "
      ]
     },
     "execution_count": 23,
     "metadata": {},
     "output_type": "execute_result"
    }
   ],
   "source": [
    "nlp = spacy.load(\"en_core_web_sm\")\n",
    "words = nlp.Defaults.stop_words\n",
    "\n",
    "def stopWords(text):\n",
    "    text = [word for word in text.split() if word not in list(words)]\n",
    "    return ' '.join(text)\n",
    "print(words)\n",
    "df['v2'] = df['v2'].apply(stopWords)\n",
    "df.head() "
   ]
  },
  {
   "cell_type": "markdown",
   "metadata": {},
   "source": [
    "### Algoritmo de treinamento\n",
    "Primeiro temos que fazer uma vetorização das palavras, por que o computador não entende a linguagem natural"
   ]
  },
  {
   "cell_type": "code",
   "execution_count": 24,
   "metadata": {},
   "outputs": [],
   "source": [
    "from sklearn.metrics import accuracy_score\n",
    "from sklearn.preprocessing import LabelEncoder\n",
    "from sklearn import model_selection, svm, naive_bayes\n",
    "from sklearn.feature_extraction.text import TfidfVectorizer\n",
    "from sklearn.metrics import classification_report\n",
    "\n"
   ]
  },
  {
   "cell_type": "code",
   "execution_count": 25,
   "metadata": {},
   "outputs": [],
   "source": [
    "train_x, test_x, train_y, test_y = model_selection.train_test_split(df['v2'], df['v1'], test_size=0.3)\n",
    "\n",
    "Encoder = LabelEncoder()\n",
    "train_y = Encoder.fit_transform(train_y)\n",
    "test_y = Encoder.fit_transform(test_y)"
   ]
  },
  {
   "cell_type": "markdown",
   "metadata": {},
   "source": [
    "### Contagem das palavras"
   ]
  },
  {
   "cell_type": "code",
   "execution_count": 26,
   "metadata": {},
   "outputs": [
    {
     "name": "stdout",
     "output_type": "stream",
     "text": [
      "{'jurong': 2211, 'point': 3649, 'crazy': 759, 'available': 216, 'bugis': 422, 'great': 1690, 'world': 4861, 'la': 2362, 'buffet': 421, 'cine': 577, 'got': 1676, 'wat': 4752, 'ok': 3471, 'lar': 2398, 'joking': 2179, 'wif': 4807, 'oni': 3490, 'free': 1548, 'entry': 1355, 'wkly': 4837, 'comp': 636, 'win': 4814, 'fa': 1419, 'cup': 816, 'final': 1483, 'tkts': 4502, 'st': 4249, 'text': 4436, 'receive': 3830, 'questionstd': 3774, 'txt': 4597, 'ratetcs': 3804, 'apply': 157, 'overs': 3521, 'dun': 1271, 'early': 1291, 'hor': 1825, 'nah': 3184, 'dont': 1181, 'think': 4463, 'goes': 1658, 'usf': 4662, 'lives': 2562, 'freemsg': 1552, 'hey': 1785, 'darling': 879, 'weeks': 4778, 'word': 4854, 'id': 1879, 'like': 2512, 'fun': 1579, 'tb': 4396, 'xxx': 4918, 'std': 4272, 'send': 4035, 'aps': 166, 'rcv': 3806, 'brother': 406, 'speak': 4219, 'treat': 4565, 'request': 3883, 'melle': 2880, 'oru': 3514, 'minnaminunginte': 2960, 'nurungu': 3406, 'vettam': 4689, 'set': 4051, 'callertune': 457, 'callers': 456, 'press': 3708, 'copy': 698, 'friends': 1562, 'winner': 4820, 'valued': 4679, 'network': 3257, 'customer': 828, 'selected': 4026, 'receivea': 3831, 'prize': 3720, 'reward': 3908, 'claim': 581, 'code': 613, 'kl': 2323, 'valid': 4675, 'hours': 1836, 'mobile': 3020, 'months': 3065, 'entitled': 1354, 'update': 4642, 'latest': 2414, 'colour': 625, 'mobiles': 3021, 'camera': 472, 'co': 608, 'im': 1898, 'gonna': 1664, 'home': 1814, 'soon': 4197, 'want': 4740, 'talk': 4383, 'stuff': 4307, 'anymore': 145, 'tonight': 4532, 'ive': 2094, 'cried': 777, 'today': 4513, 'chances': 530, 'cash': 503, 'pounds': 3681, 'csh': 795, 'cost': 711, 'pday': 3566, 'days': 905, 'tsandcs': 4581, 'reply': 3879, 'hl': 1797, 'info': 1959, 'urgent': 4651, 'won': 4847, 'week': 4774, 'membership': 2886, 'jackpot': 2103, 'tc': 4397, 'wwwdbuknet': 4891, 'lccltd': 2433, 'pobox': 3643, 'ldnwarw': 2435, 'searching': 4011, 'right': 3914, 'words': 4855, 'thank': 4445, 'promise': 3734, 'wont': 4852, 'help': 1777, 'wonderful': 4849, 'blessing': 328, 'times': 4493, 'date': 888, 'sunday': 4332, 'use': 4659, 'credit': 767, 'click': 594, 'wap': 4744, 'link': 2535, 'message': 2911, 'oh': 3466, 'kim': 2290, 'watching': 4754, 'eh': 1330, 'remember': 3862, 'spell': 4229, 'yes': 4939, 'naughty': 3213, 'wet': 4793, 'fine': 1487, 'thataos': 4449, 'way': 4760, 'feel': 1456, 'england': 1348, 'macedonia': 2718, 'miss': 2980, 'news': 3269, 'ur': 4649, 'national': 3206, 'team': 4407, 'eg': 1327, 'scotland': 4001, 'seriously': 4047, 'ium': 2091, 'going': 1660, 'try': 4578, 'ha': 1716, 'pay': 3560, 'da': 844, 'stock': 4277, 'comin': 631, 'aft': 81, 'finish': 1491, 'lunch': 2693, 'str': 4292, 'lor': 2619, 'ard': 174, 'smth': 4176, 'alright': 118, 'meet': 2865, 'sooner': 4198, 'eat': 1304, 'slice': 4156, 'hungry': 1858, 'tho': 4470, 'sucks': 4322, 'mark': 2789, 'getting': 1631, 'worried': 4864, 'knows': 2334, 'sick': 4108, 'turn': 4591, 'pizza': 3612, 'lol': 2596, 'convincing': 684, 'catch': 509, 'bus': 430, 'frying': 1570, 'egg': 1328, 'tea': 4403, 'eating': 1307, 'moms': 3044, 'left': 2455, 'dinner': 1088, 'love': 2644, 'amp': 123, 'car': 486, 'ill': 1895, 'let': 2479, 'know': 2330, 'theres': 4457, 'room': 3933, 'work': 4857, 'wait': 4723, 'thats': 4451, 'clear': 589, 'sure': 4348, 'sarcastic': 3975, 'doesnt': 1153, 'live': 2558, 'yeah': 4931, 'actin': 45, 'child': 562, 'caught': 511, 'till': 4491, 'cheers': 555, 'tell': 4417, 'fear': 1453, 'quick': 3775, 'cuppa': 818, 'thanks': 4446, 'subscription': 4318, 'ringtone': 3918, 'uk': 4611, 'charged': 537, 'confirm': 652, 'replying': 3880, 'yup': 4988, 'look': 2607, 'msg': 3113, 'xuhui': 4916, 'learn': 2445, 'nd': 3219, 'lesson': 2477, 'oops': 3494, 'roommates': 3935, 'letter': 2481, 'decide': 943, 'hello': 1775, 'hows': 1841, 'saturday': 3981, 'texting': 4439, 'youd': 4960, 'decided': 944, 'tomo': 4524, 'trying': 4579, 'invite': 2023, 'pls': 3631, 'ahead': 92, 'wanted': 4741, 'weekend': 4775, 'abiola': 5, 'forget': 1532, 'need': 3232, 'crave': 756, 'sweet': 4358, 'mmmmmm': 3010, 'yummy': 4983, 'burns': 429, 'tried': 4568, 'sms': 4175, 'nokia': 3330, 'camcorder': 470, 'delivery': 982, 'tomorrow': 4527, 'seeing': 4023, 'hope': 1821, 'man': 2763, 'ltgt': 2678, 'inches': 1928, 'callsmessagesmissed': 467, 'calls': 464, 'didnt': 1057, 'immunisation': 1910, 'nigeria': 3287, 'fair': 1427, 'hopefully': 1823, 'tyler': 4604, 'cant': 482, 'maybe': 2838, 'ask': 192, 'bit': 316, 'hospital': 1829, 'kept': 2261, 'telling': 4418, 'weak': 4763, 'hospitals': 1830, 'time': 4492, 'saw': 3986, 'class': 584, 'gram': 1685, 'usually': 4666, 'runs': 3956, 'half': 1724, 'eighth': 1331, 'gets': 1628, 'second': 4015, 'fyi': 1586, 'ride': 3913, 'morning': 3074, 'hes': 1783, 'crashing': 755, 'place': 3613, 'wow': 4873, 'realized': 3821, 'embarassed': 1338, 'accomodations': 27, 'thought': 4472, 'liked': 2513, 'best': 294, 'happy': 1744, 'sorry': 4202, 'offered': 3448, 'ac': 17, 'sptv': 4245, 'new': 3264, 'jersey': 2146, 'devils': 1035, 'detroit': 1029, 'red': 3842, 'play': 3621, 'ice': 1877, 'hockey': 1804, 'correct': 703, 'incorrect': 1939, 'end': 1340, 'mallika': 2762, 'yesterday': 4943, 'find': 1486, 'lturlgt': 2682, 'congrats': 658, 'year': 4932, 'special': 4221, 'cinema': 578, 'pass': 3553, 'suprman': 4346, 'matrix': 2824, 'starwars': 4263, 'etc': 1369, 'bxipwe': 440, 'pm': 3634, 'later': 2412, 'meeting': 2868, 'reached': 3810, 'odi': 3441, 'series': 4046, 'pick': 3594, 'burger': 427, 'pain': 3532, 'killing': 2287, 'good': 1665, 'joke': 2174, 'girls': 1644, 'situation': 4136, 'checking': 553, 'iq': 2037, 'took': 4536, 'forever': 1530, 'come': 628, 'double': 1195, 'check': 551, 'hair': 1722, 'dresser': 1229, 'said': 3964, 'wun': 4887, 'cut': 832, 'short': 4089, 'nice': 3280, 'pleased': 3627, 'advise': 72, 'following': 1521, 'recent': 3834, 'review': 3906, 'mob': 3018, 'awarded': 226, 'bonus': 353, 'song': 4192, 'dedicated': 954, 'day': 900, 'dedicate': 953, 'valuable': 4677, 'frnds': 1567, 'rply': 3942, 'complimentary': 644, 'trip': 4569, 'eurodisinc': 1372, 'trav': 4563, 'acoentry': 41, 'dis': 1101, 'apsmorefrmmob': 168, 'shracomorsglsuplt': 4100, 'ls': 2668, 'aj': 104, 'hear': 1762, 'divorce': 1130, 'comes': 630, 'kens': 2259, 'plane': 3617, 'month': 3061, 'wah': 4720, 'lucky': 2686, 'save': 3984, 'money': 3049, 'hee': 1769, 'finished': 1492, 'hi': 1788, 'babe': 232, 'wanna': 4739, 'xx': 4917, 'kkwhere': 2320, 'youhow': 4961, 'waiting': 4726, 'machan': 2720, 'cool': 690, 'gentleman': 1623, 'dignity': 1078, 'respect': 3888, 'shy': 4104, 'pa': 3525, 'looking': 2611, 'job': 2161, 'earn': 1292, 'ah': 90, 'stop': 4283, 'urgnt': 4654, 'real': 3817, 'yo': 4950, 'tickets': 4487, 'jacket': 2102, 'multis': 3143, 'started': 4260, 'requests': 3884, 'came': 471, 'bed': 274, 'coins': 616, 'gotta': 1678, 'nitros': 3311, 'ela': 1333, 'kanoil': 2236, 'download': 1203, 'wen': 4788, 'donut': 1184, 'stand': 4253, 'close': 597, 'youull': 4970, 'night': 3289, 'spent': 4232, 'late': 2407, 'afternoon': 82, 'means': 2852, 'havent': 1753, 'includes': 1932, 'sheets': 4066, 'smile': 4168, 'pleasure': 3628, 'trouble': 4571, 'pours': 3682, 'rain': 3789, 'sum': 4329, 'hurts': 1864, 'becoz': 273, 'loves': 2654, 'smiling': 4171, 'service': 4048, 'representative': 3882, 'ampm': 124, 'guaranteed': 1703, 'planning': 3619, 'buy': 435, 'lido': 2494, 'collected': 620, 'simply': 4121, 'password': 3556, 'mix': 3000, 'verify': 4687, 'usher': 4663, 'britney': 399, 'fml': 1516, 'moviewat': 3100, 'abt': 12, 'loads': 2573, 'loans': 2575, 'wk': 4833, 'hols': 1812, 'run': 3954, 'forgot': 1535, 'appointment': 158, 'shower': 4097, 'cause': 512, 'prob': 3722, 'ham': 1728, 'okay': 3472, 'price': 3713, 'long': 2603, 'legal': 2458, 'ave': 218, 'gone': 1663, 'driving': 1238, 'test': 4433, 'youre': 4967, 'mean': 2848, 'guess': 1707, 'gave': 1606, 'boston': 367, 'men': 2891, 'changed': 532, 'search': 4010, 'location': 2578, 'nyc': 3416, 'cuz': 839, 'page': 3529, 'says': 3988, 'umma': 4615, 'life': 2497, 'vava': 4681, 'lot': 2629, 'dear': 925, 'wishes': 4826, 'birthday': 314, 'making': 2757, 'truly': 4575, 'memorable': 2888, 'aight': 95, 'hit': 1795, 'ip': 2031, 'address': 61, 'considering': 664, 'computer': 645, 'isnt': 2057, 'minecraft': 2956, 'old': 3486, 'people': 3573, 'mom': 3041, 'better': 296, 'lying': 2709, 'jokes': 2176, 'worry': 4866, 'busy': 433, 'noun': 3369, 'research': 3886, 'dinnermsg': 1089, 'cos': 709, 'things': 4462, 'scared': 3989, 'mah': 2741, 'loud': 2639, 'gent': 1621, 'contact': 668, 'weekends': 4776, 'draw': 1217, 'shows': 4099, 'hrs': 1847, 'ppm': 3688, 'wa': 4719, 'sentence': 4043, 'juz': 2216, 'tt': 4585, 'eatin': 1306, 'puttin': 3763, 'anythin': 146, 'happened': 1739, 'entered': 1353, 'cabin': 442, 'bday': 267, 'boss': 366, 'felt': 1462, 'askd': 193, 'invited': 2024, 'apartment': 151, 'went': 4789, 'specially': 4223, 'holiday': 1809, 'flights': 1509, 'inc': 1926, 'operator': 3497, 'pmin': 3635, 'goodo': 1672, 'friday': 1560, 'tortilla': 4542, 'needed': 3234, 'uncle': 4620, 'informed': 1963, 'paying': 3562, 'school': 3993, 'directly': 1095, 'food': 1523, 'private': 3719, 'account': 30, 'statement': 4264, 'unredeemed': 4635, 'points': 3650, 'identifier': 1883, 'expires': 1409, 'caller': 455, 'landline': 2385, 'malarky': 2759, 'todays': 4515, 'voda': 4706, 'numbers': 3402, 'ending': 1342, 'award': 225, 'match': 2812, 'quoting': 3782, 'standard': 4254, 'rates': 3803, 'app': 153, 'mu': 3132, 'ii': 1888, 'buying': 436, 'knowyetunde': 2337, 'hasnt': 1749, 'sent': 4041, 'bother': 368, 'sending': 4037, 'involve': 2028, 'shouldnt': 4094, 'imposed': 1916, 'apologise': 152, 'girl': 1641, 'del': 972, 'bak': 241, 'lucyxx': 2690, 'kkhow': 2314, 'accomodate': 26, 'answer': 138, 'question': 3771, 'sunshine': 4335, 'quiz': 3779, 'sony': 4194, 'dvd': 1280, 'player': 3623, 'country': 729, 'algarve': 113, 'ansr': 137, 'sptyrone': 4246, 'laid': 2376, 'dogging': 1159, 'locations': 2579, 'direct': 1094, 'join': 2169, 'uks': 4612, 'largest': 2402, 'bt': 412, 'txting': 4601, 'nt': 3390, 'eca': 1309, 'pmsgp': 3637, 'haf': 1718, 'msn': 3125, 'yijuehotmailcom': 4947, 'rooms': 3936, 'befor': 278, 'activities': 50, 'youll': 4965, 'msgs': 3118, 'chat': 544, 'hardcore': 1746, 'services': 4049, 'age': 86, 'yr': 4978, 'lazy': 2431, 'type': 4605, 'lect': 2452, 'pouch': 3679, 'sir': 4128, 'mail': 2745, 'swt': 4369, 'nver': 3411, 'tired': 4495, 'little': 2557, 'lovable': 2643, 'persons': 3579, 'cozsomtimes': 743, 'occupy': 3433, 'biggest': 303, 'gud': 1704, 'ni': 3277, 'open': 3495, 'ya': 4925, 'dot': 1194, 'whats': 4796, 'staff': 4250, 'taking': 4381, 'replied': 3878, 'randy': 3798, 'sexy': 4058, 'female': 1463, 'local': 2577, 'luv': 2699, 'netcollex': 3253, 'ltd': 2673, 'inour': 1980, 'begin': 281, 'qatar': 3767, 'pray': 3695, 'hard': 1745, 'ki': 2275, 'deleted': 976, 'birla': 311, 'soft': 4184, 'wine': 4819, 'flowing': 1515, 'nevering': 3261, 'thk': 4467, 'plaza': 3626, 'dirt': 1098, 'floor': 1513, 'windows': 4818, 'shirt': 4077, 'mouth': 3095, 'dream': 1221, 'joy': 2191, 'lots': 2632, 'tv': 4594, 'mist': 2991, 'leaving': 2451, 'house': 1837, 'interview': 2010, 'boy': 377, 'meare': 2854, 'missing': 2984, 'years': 4933, 'arrange': 184, 'safe': 3963, 'hand': 1730, 'spend': 4230, 'inviting': 2025, 'friend': 1561, 'frnd': 1566, 'order': 3507, 'content': 671, 'goto': 1677, 'internetservice': 2009, 'menu': 2899, 'cultures': 812, 'module': 3034, 'avoid': 220, 'missunderstding': 2989, 'wit': 4830, 'beloved': 289, 'ones': 3489, 'escape': 1363, 'fancy': 1434, 'needs': 3238, 'lager': 2375, 'completely': 643, 'formclark': 1538, 'utter': 4667, 'waste': 4750, 'bank': 245, 'hmmm': 1801, 'hop': 1820, 'muz': 3168, 'discuss': 1114, 'liao': 2486, 'coming': 632, 'bloody': 339, 'hell': 1773, 'believe': 284, 'mr': 3105, 'spanish': 4217, 'bath': 255, 'youve': 4972, 'carlos': 497, 'mall': 2761, 'turns': 4593, 'staying': 4270, 'til': 4490, 'smoke': 4172, 'worth': 4869, 'log': 2585, 'spoke': 4238, 'maneesha': 2773, 'wed': 4769, 'satisfied': 3979, 'experience': 1408, 'toll': 4520, 'lifted': 2506, 'offer': 3447, 'especially': 1365, 'studying': 4306, 'anyways': 148, 'gr': 1682, 'trust': 4576, 'guys': 1712, 'working': 4859, 'net': 3252, 'mummy': 3147, 'wheres': 4800, 'boytoy': 381, 'haha': 1719, 'awesome': 228, 'minute': 2969, 'freephone': 1553, 'xmas': 4914, 'radio': 3785, 'jus': 2212, 'bathe': 256, 'sis': 4130, 'finishes': 1493, 'unique': 4629, 'th': 4443, 'august': 210, 'joined': 2170, 'league': 2443, 'touch': 4547, 'deal': 918, 'personal': 3577, 'finally': 1484, 'completed': 642, 'course': 735, 'suggest': 4326, 'stays': 4271, 'able': 7, 'settled': 4055, 'wishin': 4827, 'mrng': 3107, 'hav': 1751, 'story': 4291, 'hamster': 1729, 'dead': 916, 'tmr': 4507, 'orchard': 3506, 'mrt': 3109, 'kate': 2242, 'evening': 1377, 'found': 1543, 'bucks': 417, 'darlin': 878, 'college': 623, 'refilled': 3847, 'successfully': 4321, 'inr': 1983, 'ltdecimalgt': 2675, 'keralacircle': 2263, 'prepaid': 3702, 'balance': 242, 'rs': 3944, 'transaction': 4558, 'kr': 2350, 'goodmorning': 1668, 'sleeping': 4150, 'dat': 886, 'ericsson': 1360, 'oso': 3516, 'oredi': 3509, 'dats': 894, 'straight': 4293, 'dogg': 1157, 'connection': 661, 'bill': 304, 'shoot': 4085, 'big': 301, 'ready': 3816, 'bruv': 409, 'break': 388, 'rewarding': 3909, 'semester': 4033, 'kkgoodstudy': 2313, 'noe': 3320, 'leh': 2461, 'sounds': 4211, 'heading': 1760, 'slept': 4155, 'past': 3558, 'nights': 3293, 'easy': 1303, 'ahsen': 94, 'exam': 1392, 'march': 2785, 'gt': 1701, 'atm': 204, 'register': 3851, 'os': 3515, 'called': 454, 'installing': 1992, 'diskyou': 1117, 'important': 1914, 'files': 1475, 'system': 4372, 'repair': 3874, 'shop': 4086, 'happen': 1737, 'romantic': 3931, 'nite': 3308, 'collect': 619, 'todayfrom': 4514, 'wwwtcbiz': 4902, 'optout': 3503, 'gbpmtmsg': 1611, 'appreciate': 159, 'partner': 3550, 'career': 491, 'start': 4259, 'horo': 1827, 'followed': 1520, 'star': 4256, 'sign': 4112, 'company': 637, 'po': 3642, 'mudyadhu': 3137, 'teacher': 4405, 'bcoz': 265, 'teaches': 4406, 'conducts': 650, 'lessons': 2478, 'walk': 4731, 'cross': 782, 'road': 3923, 'street': 4296, 'battery': 258, 'died': 1062, 'yeshere': 4941, 'flirt': 1511, 'sam': 3970, 'pence': 3570, 'printed': 3716, 'upstairs': 4647, 'closer': 600, 'youwhen': 4974, 'wil': 4812, 'reach': 3809, 'theory': 4455, 'argument': 179, 'wins': 4822, 'loses': 2625, 'person': 3576, 'argue': 178, 'kick': 2277, 'secret': 4017, 'admirer': 64, 'ufind': 4607, 'rreveal': 3943, 'thinks': 4466, 'specialcall': 4222, 'tomarrow': 4522, 'laptop': 2397, 'case': 502, 'tel': 4415, 'avent': 219, 'shining': 4073, 'meant': 2853, 'signing': 4113, 'told': 4519, 'face': 1421, 'watch': 4753, 'fr': 1544, 'thanx': 4448, 'uve': 4669, 'touched': 4548, 'commercial': 633, 'website': 4768, 'slippers': 4160, 'asked': 194, 'kallis': 2228, 'bat': 253, 'innings': 1977, 'goodnight': 1669, 'fix': 1498, 'wake': 4728, 'dearly': 929, 'missed': 2982, 'sleep': 4148, 'congratulations': 659, 'cd': 516, 'vouchers': 4715, 'gift': 1637, 'music': 3161, 'tncs': 4510, 'wwwldewcomwinppmxage': 4897, 'ranjith': 3801, 'cal': 446, 'drpd': 1246, 'deeraj': 960, 'deepak': 957, 'min': 2949, 'hold': 1806, 'bcums': 266, 'angry': 129, 'wid': 4805, 'dnt': 1138, 'coz': 742, 'childish': 563, 'true': 4573, 'showing': 4098, 'deep': 956, 'affection': 78, 'care': 489, 'kettoda': 2265, 'manda': 2769, 'doinghow': 1165, 'shipping': 4076, 'takes': 4379, 'wks': 4838, 'lag': 2373, 'nipost': 3305, 'lemme': 2465, 'necessarily': 3226, 'expect': 1405, 'headin': 1759, 'mmm': 3007, 'jolt': 2181, 'suzy': 4355, 'lover': 2650, 'video': 4691, 'handset': 1734, 'anytime': 147, 'networks': 3259, 'mins': 2962, 'unlimited': 4633, 'parked': 3548, 'mini': 2958, 'shopping': 4088, 'disturb': 1124, 'luton': 2698, 'ring': 3917, 'horny': 1826, 'naked': 3187, 'hot': 1832, 'unsubscribe': 4638, 'dint': 1091, 'wana': 4738, 'plan': 3616, 'credits': 769, 'choose': 572, 'club': 603, 'pwk': 3765, 'box': 373, 'mk': 3003, 'wt': 4882, 'flash': 1505, 'jealous': 2134, 'singles': 4126, 'chart': 541, 'quality': 3768, 'charge': 536, 'sorting': 4206, 'narcotics': 3199, 'ended': 1341, 'sunny': 4334, 'rays': 3805, 'leaves': 2450, 'worries': 4865, 'blue': 344, 'bay': 259, 'hmv': 1802, 'genuine': 1625, 'questions': 3773, 'infowwwpercentrealcom': 1967, 'objection': 3427, 'bf': 298, 'mack': 2724, 'gf': 1633, 'handed': 1731, 'swing': 4364, 'tool': 4537, 'far': 1438, 'okie': 3477, 'usual': 4664, 'passed': 3554, 'anybody': 144, 'throw': 4477, 'lets': 2480, 'baby': 235, 'cruisin': 790, 'hour': 1835, 'fone': 1522, 'jenny': 2141, 'ge': 1614, 'dearshall': 933, 'okvarunnathu': 3484, 'sense': 4039, 'gautham': 1605, 'stupid': 4308, 'cam': 469, 'buzy': 437, 'accidentally': 23, 'resend': 3887, 'tmobile': 4506, 'phone': 3587, 'upgrade': 4644, 'sim': 4118, 'card': 487, 'loyalty': 2665, 'ends': 1343, 'hurt': 1862, 'tease': 4409, 'cry': 792, 'die': 1061, 'plz': 3633, 'rose': 3937, 'grave': 1688, 'bslvyl': 410, 'coffee': 614, 'tomocant': 4525, 'somebody': 4190, 'high': 1790, 'diesel': 1063, 'shit': 4079, 'shocking': 4083, 'scary': 3990, 'imagine': 1903, 'def': 961, 'crash': 753, 'taxi': 4394, 'meal': 2846, 'actor': 51, 'blind': 330, 'kingdom': 2295, 'dates': 890, 'hide': 1789, 'book': 355, 'jos': 2188, 'friendship': 1563, 'hanging': 1736, 'thread': 4474, 'themob': 4454, 'newest': 3266, 'selection': 4027, 'games': 1592, 'tones': 4529, 'gossip': 1675, 'babes': 233, 'sport': 4241, 'fit': 1497, 'funky': 1582, 'garage': 1598, 'keys': 2268, 'arent': 176, 'accept': 20, 'dayu': 911, 'sister': 4131, 'clos': 596, 'lvblefrnd': 2706, 'jstfrnd': 2197, 'cutefrnd': 834, 'lifpartnr': 2504, 'belovd': 288, 'swtheart': 4370, 'bstfrnd': 411, 'enemy': 1344, 'smart': 4165, 'weekly': 4777, 'nowtcs': 3385, 'uz': 4670, 'gbpweek': 1612, 'definitely': 965, 'normal': 3348, 'rest': 3894, 'mylife': 3172, 'wot': 4870, 'lost': 2628, 'kkadvance': 2307, 'pongal': 3661, 'kb': 2248, 'power': 3684, 'yoga': 4951, 'dunno': 1273, 'tahan': 4377, 'anot': 135, 'lo': 2571, 'dude': 1264, 'afraid': 80, 'december': 941, 'mths': 3130, 'cake': 444, 'merry': 2906, 'christmas': 575, 'kisses': 2301, 'cud': 806, 'ppl': 3686, 'gona': 1662, 'buses': 431, 'waitin': 4725, 'pete': 3580, 'bristol': 397, 'plans': 3620, 'flight': 1508, 'problem': 3724, 'dahow': 855, 'track': 4552, 'record': 3839, 'reading': 3815, 'women': 4846, 'read': 3813, 'light': 2508, 'kkapo': 2309, 'kgood': 2273, 'movie': 3098, 'return': 3900, 'immediately': 1909, 'germany': 1627, 'fixed': 1499, 'line': 2527, 'access': 21, 'number': 3399, 'prepayment': 3705, 'chance': 529, 'violated': 4697, 'privacy': 3718, 'paperwork': 3541, 'report': 3881, 'supervisor': 4341, 'valentines': 4674, 'lifetime': 2502, 'pmsg': 3636, 'rcvd': 3807, 'custcare': 826, 'dined': 1084, 'sleepingand': 4151, 'surfing': 4350, 'calling': 460, 'post': 3672, 'texts': 4442, 'wiv': 4831, 'caroline': 498, 'favourite': 1451, 'bless': 326, 'stranger': 4295, 'interested': 2003, 'cleared': 590, 'round': 3938, 'gudnitetcpractice': 1706, 'yijue': 4946, 'num': 3398, 'small': 4164, 'dointerested': 1167, 'txts': 4603, 'jeremiah': 2142, 'iphone': 2035, 'misbehaved': 2975, 'slap': 4146, 'urself': 4656, 'fault': 1446, 'basically': 252, 'figure': 1471, 'alcohol': 109, 'jay': 2125, 'weed': 4773, 'ish': 2051, 'minutes': 2970, 'ago': 88, 'wtf': 4883, 'remembered': 3863, 'met': 2926, 'insurance': 1997, 'insha': 1985, 'ex': 1389, 'cashbalance': 504, 'currently': 822, 'maximize': 2833, 'cashin': 505, 'cc': 515, 'hgsuitelands': 1786, 'rowwjhl': 3940, 'unemployed': 4626, 'moment': 3042, 'cold': 617, 'posted': 3675, 'chikku': 561, 'status': 4266, 'forward': 1541, 'dawns': 899, 'alive': 114, 'breathe': 390, 'air': 97, 'updatenow': 4643, 'motorola': 3091, 'sonyericsson': 4195, 'bluetooth': 345, 'orange': 3504, 'mobileupd': 3024, 'discount': 1112, 'messages': 2917, 'geeee': 1616, 'woke': 4843, 'wish': 4825, 'cuddling': 809, 'talking': 4384, 'agree': 89, 'willing': 4813, 'reference': 3846, 'gbp': 1610, 'seen': 4024, 'mei': 2874, 'didt': 1060, 'recognise': 3838, 'happening': 1740, 'lindsay': 2526, 'sighs': 4110, 'ptbo': 3750, 'brings': 396, 'project': 3732, 'mistake': 2992, 'body': 350, 'slow': 4162, 'tests': 4435, 'guide': 1709, 'ovulation': 3522, 'relax': 3857, 'reason': 3823, 'couple': 732, 'leave': 2449, 'phones': 3589, 'calloptoutndx': 463, 'licks': 2493, 'mm': 3006, 'rental': 3872, 'mobilesdirect': 3022, 'orstoptxt': 3513, 'having': 1755, 'huh': 1856, 'sat': 3977, 'intro': 2016, 'pilates': 3606, 'kickboxing': 2278, 'office': 3452, 'lap': 2395, 'shut': 4103, 'bout': 371, 'monthnot': 3064, 'current': 821, 'period': 3575, 'actually': 53, 'rock': 3926, 'putting': 3764, 'business': 432, 'pictures': 3601, 'ass': 199, 'facebook': 1422, 'picture': 3600, 'al': 106, 'newsby': 3270, 'grace': 1683, 'god': 1655, 'joinedhope': 2171, 'india': 1946, 'change': 531, 'field': 1466, 'quickly': 3776, 'dai': 856, 'administrator': 63, 'poly': 3656, 'tone': 4528, 'eapsnd': 1286, 'chechi': 550, 'cream': 762, 'shipped': 4075, 'yep': 4937, 'loxahatchee': 2663, 'tree': 4567, 'burning': 428, 'starts': 4262, 'slightly': 4158, 'disastrous': 1107, 'darlings': 880, 'wld': 4839, 'stay': 4267, 'drink': 1230, 'messagesome': 2919, 'sendername': 4036, 'sentdate': 4042, 'fullonsmscom': 1578, 'iron': 2041, 'thing': 4461, 'okies': 3478, 'yan': 4927, 'jiu': 2157, 'skip': 4141, 'den': 987, 'blah': 321, 'bring': 394, 'dating': 891, 'boxskch': 376, 'whatsup': 4797, 'goal': 1654, 'competition': 639, 'wwwtxttowincouk': 4907, 'head': 1757, 'logo': 2589, 'names': 3192, 'heart': 1764, 'mobno': 3025, 'adam': 55, 'eve': 1375, 'yahoo': 4926, 'poboxwwq': 3645, 'txtno': 4602, 'ads': 67, 'contacted': 669, 'hostel': 1831, 'aha': 91, 'land': 2383, 'voice': 4709, 'speaking': 4220, 'expression': 1414, 'ful': 1577, 'funny': 1583, 'irritating': 2045, 'shell': 4069, 'aathiwhere': 2, 'esplanade': 1366, 'mind': 2952, 'giving': 1649, 'lift': 2505, 'wnt': 4841, 'bmw': 348, 'urgentlyits': 4653, 'vry': 4716, 'urgentbut': 4652, 'hv': 1866, 'shortage': 4090, 'lacsthere': 2368, 'source': 4213, 'arng': 183, 'amt': 125, 'lacsthats': 2367, 'fucking': 1574, 'respond': 3890, 'vary': 4680, 'bcm': 263, 'ldn': 2434, 'wcnxx': 4762, 'booked': 356, 'ticket': 4486, 'askin': 195, 'dollars': 1171, 'iouri': 2030, 'applebees': 155, 'yeshe': 4940, 'greatbhaji': 1691, 'cricketer': 775, 'sachin': 3959, 'worldvery': 4863, 'tough': 4549, 'supposed': 4345, 'oic': 3468, 'tot': 4544, 'din': 1082, 'group': 1699, 'monkeespeople': 3052, 'monkeyaround': 3054, 'gorgeous': 1674, 'kinda': 2292, 'hmm': 1800, 'lotsly': 2633, 'kkwhat': 2318, 'detail': 1023, 'improve': 1923, 'loan': 2574, 'purpose': 3758, 'homeowners': 1815, 'tenants': 4424, 'welcome': 4784, 'previously': 3711, 'refused': 3848, 'si': 4105, 'oreo': 3510, 'truffles': 4574, 'amy': 127, 'ure': 4650, 'beautiful': 270, 'intelligent': 1998, 'woman': 4845, 'donaot': 1177, 'result': 3896, 'kind': 2291, 'asking': 196, 'links': 2536, 'ears': 1294, 'ttyl': 4586, 'bad': 236, 'different': 1071, 'decisions': 948, 'coping': 696, 'individualtime': 1952, 'gives': 1648, 'reasons': 3825, 'july': 2205, 'tcs': 4399, 'bye': 441, 'railway': 3788, 'princess': 3714, 'receiving': 3833, 'doggy': 1160, 'style': 4310, 'fave': 1447, 'position': 3669, 'enjoy': 1350, 'roads': 3924, 'language': 2392, 'okmail': 3479, 'dave': 896, 'notice': 3362, 'tenerife': 4425, 'sae': 3962, 'cwwx': 840, 'screamed': 4004, 'remove': 3868, 'flat': 1506, 'rate': 3802, 'transfered': 4560, 'removed': 3869, 'banks': 246, 'differ': 1067, 'charges': 538, 'differbe': 1068, 'ja': 2099, 'details': 1025, 'moan': 3017, 'nyt': 3419, 'broken': 403, 'cum': 813, 'infront': 1969, 'wise': 4824, 'll': 2566, 'aathilove': 1, 'tension': 4426, 'machiany': 2721, 'thinking': 4465, 'mcr': 2845, 'sec': 4014, 'taste': 4391, 'fb': 1452, 'jaykwon': 2127, 'activate': 48, 'terms': 4428, 'conditions': 649, 'visit': 4703, 'wwwcom': 4889, 'depends': 999, 'boye': 378, 'accounts': 32, 'dry': 1255, 'trade': 4553, 'sorryin': 4203, 'nowcan': 3374, 'meh': 2873, 'nope': 3343, 'monday': 3046, 'jackson': 2104, 'rec': 3827, 'center': 523, 'fighting': 1468, 'lose': 2623, 'fightng': 1469, 'dificult': 1074, 'nuerologist': 3397, 'lolnice': 2597, 'fish': 1496, 'water': 4755, 'tcsstop': 4401, 'bored': 361, 'outside': 3518, 'hyde': 1868, 'park': 3547, 'village': 4696, 'near': 3221, 'anthony': 142, 'bringing': 395, 'fees': 1459, 'rent': 3871, 'opinion': 3498, 'jada': 2106, 'kusruthi': 2357, 'silent': 4115, 'spl': 4235, 'character': 535, 'matured': 2829, 'stylish': 4311, 'simple': 4119, 'scrounge': 4007, 'prabhaim': 3691, 'sorydarealyfrm': 4208, 'sory': 4207, 'forgiven': 1534, 'nojst': 3328, 'tat': 4392, 'gb': 1609, 'ipod': 2036, 'mp': 3102, 'ibhltd': 1873, 'ldnwh': 2436, 'pmtmsgrcvd': 3641, 'mono': 3057, 'cha': 526, 'slide': 4157, 'jamz': 2114, 'renewal': 3870, 'pin': 3607, 'transport': 4562, 'definite': 964, 'nos': 3353, 'booking': 357, 'fri': 1559, 'children': 564, 'behave': 282, 'abnormally': 8, 'ebay': 1308, 'shall': 4061, 'pickle': 3597, 'tacos': 4376, 'rude': 3948, 'campus': 474, 'attempt': 206, 'boxqu': 375, 'savamob': 3983, 'member': 2884, 'offers': 3450, 'cs': 794, 'sub': 4312, 'unsub': 4637, 'pretty': 3709, 'lady': 2372, 'single': 4125, 'channel': 534, 'pg': 3582, 'doublefaggot': 1196, 'todaysundaysunday': 4516, 'holidayso': 1810, 'hoping': 1824, 'lr': 2667, 'malaria': 2758, 'leads': 2441, 'passionate': 3555, 'kiss': 2300, 'sea': 4009, 'probably': 3723, 'lt': 2672, 'fat': 1443, 'fingers': 1490, 'ummmmmaah': 4616, 'returns': 3902, 'tirupur': 4497, 'monthlysubscriptionpmsg': 3063, 'maxmonth': 2836, 'web': 4767, 'quote': 3781, 'develop': 1031, 'ability': 4, 'listen': 2548, 'losing': 2626, 'self': 4028, 'confidence': 651, 'married': 2797, 'oclock': 3437, 'recovery': 3841, 'cooped': 692, 'hotel': 1833, 'invitation': 2022, 'english': 1349, 'blokes': 333, 'omw': 3488, 'btw': 416, 'cutting': 838, 'cock': 612, 'reminding': 3866, 'owns': 3523, 'cuck': 805, 'hurry': 1861, 'acknowledgement': 38, 'generally': 1619, 'faggy': 1424, 'demand': 986, 'blood': 336, 'oath': 3423, 'fo': 1517, 'warm': 4745, 'milk': 2943, 'magic': 2738, 'loose': 2616, 'weight': 4781, 'iull': 2090, 'pan': 3536, 'itus': 2084, 'cheap': 546, 'thatus': 4452, 'isnut': 2059, 'likely': 2514, 'mutations': 3167, 'essential': 1367, 'lunchyou': 2695, 'pics': 3598, 'aiyo': 103, 'fast': 1440, 'workin': 4858, 'meim': 2875, 'geeeee': 1617, 'barely': 249, 'fuck': 1571, 'mrw': 3111, 'ninish': 3303, 'american': 122, 'callin': 459, 'jen': 2139, 'oooh': 3493, 'ey': 1416, 'gym': 1715, 'smiles': 4170, 'daddy': 850, 'scream': 4003, 'dick': 1052, 'missy': 2990, 'yar': 4928, 'mum': 3144, 'sch': 3991, 'clean': 587, 'lab': 2363, 'door': 1187, 'claims': 582, 'marriage': 2795, 'snake': 4178, 'dancing': 866, 'bite': 318, 'izzit': 2098, 'kids': 2283, 'jjc': 2158, 'headache': 1758, 'quit': 3778, 'jazz': 2130, 'yogasana': 4952, 'em': 1336, 'meive': 2877, 'hardly': 1747, 'spree': 4243, 'tscs': 4582, 'wwwtxtshopcom': 4906, 'xpwk': 4915, 'pound': 3680, 'lines': 2531, 'ag': 84, 'promo': 3736, 'grand': 1686, 'nitz': 3313, 'announcement': 133, 'exhausted': 1402, 'train': 4555, 'pie': 3602, 'mums': 3149, 'present': 3707, 'ar': 172, 'tsunamis': 4584, 'occur': 3434, 'stopped': 4284, 'swimming': 4363, 'indian': 1947, 'oceand': 3436, 'noon': 3340, 'morow': 3078, 'soiree': 4186, 'nichols': 3282, 'ladies': 2370, 'neva': 3260, 'imma': 1907, 'somethin': 4191, 'euro': 1371, 'results': 3897, 'daily': 857, 'valentine': 4673, 'game': 1591, 'answers': 141, 'ques': 3770, 'suits': 4328, 'dependents': 998, 'future': 1585, 'uncles': 4621, 'shuhui': 4102, 'leona': 2471, 'reaction': 3812, 'family': 1431, 'happiness': 1743, 'snow': 4180, 'weather': 4766, 'dismay': 1119, 'alex': 111, 'pub': 3753, 'bud': 418, 'drinks': 1234, 'useful': 4660, 'officially': 3458, 'paid': 3531, 'market': 2790, 'pop': 3666, 'longer': 2604, 'darren': 882, 'textbuddy': 4437, 'area': 175, 'postcode': 3674, 'gaytextbuddycom': 1608, 'vodafone': 4707, 'matches': 2814, 'forwarded': 1542, 'seven': 4056, 'ml': 3004, 'uo': 4640, 'voucher': 4714, 'holder': 1807, 'pc': 3565, 'httpwwwetlpcoukexpressoffer': 1850, 'sweetheart': 4360, 'login': 2588, 'dad': 849, 'thanksgiving': 4447, 'sound': 4210, 'effects': 1326, 'wee': 4772, 'thursday': 4482, 'taken': 4378, 'trains': 4557, 'weure': 4794, 'jolly': 2180, 'cartoon': 501, 'listening': 2550, 'temple': 4423, 'church': 576, 'email': 1337, 'rstm': 3945, 'sw': 4356, 'ss': 4248, 'gentle': 1622, 'starting': 4261, 'panic': 3537, 'tuesday': 4588, 'town': 4551, 'bet': 295, 'hella': 1774, 'drugs': 1249, 'drug': 1247, 'dealers': 920, 'impatient': 1912, 'sun': 4331, 'earth': 1295, 'river': 3922, 'evng': 1384, 'premium': 3701, 'lays': 2430, 'envelope': 1357, 'paper': 3539, 'fetch': 1464, 'de': 915, 'prepare': 3703, 'study': 4305, 'kama': 2230, 'en': 1339, 'nange': 3195, 'kalstiyathen': 2229, 'lakhs': 2378, 'ho': 1803, 'belly': 287, 'laugh': 2417, 'posts': 3676, 'opt': 3501, 'ditto': 1127, 'saying': 3987, 'peace': 3567, 'knw': 2338, 'awake': 224, 'yelling': 4935, 'lonely': 2602, 'hex': 1784, 'explain': 1410, 'xy': 4924, 'sue': 4323, 'lapdancer': 2396, 'sex': 4057, 'bedroom': 276, 'textoperator': 4440, 'king': 2294, 'crying': 793, 'building': 424, 'map': 2779, 'imprtant': 1925, 'dearme': 930, 'cochin': 611, 'ans': 136, 'torch': 4541, 'bold': 351, 'farm': 1439, 'law': 2425, 'purchase': 3756, 'poop': 3664, 'looks': 2612, 'gpu': 1681, 'corporation': 701, 'gap': 1596, 'ku': 2354, 'dehydration': 971, 'weird': 4782, 'idea': 1880, 'deari': 927, 'away': 227, 'drivin': 1237, 'fantastic': 1436, 'ngage': 3274, 'deck': 949, 'height': 1770, 'aeronautics': 74, 'professors': 3730, 'wer': 4790, 'calld': 453, 'sit': 4132, 'aeroplane': 75, 'aftr': 83, 'ws': 4881, 'students': 4304, 'dey': 1037, 'hurried': 1860, 'saidif': 3965, 'timing': 4494, 'stress': 4297, 'dorm': 1189, 'sell': 4029, 'uu': 4668, 'tcsbcmwcnxx': 4400, 'callcost': 451, 'mobilesvary': 3023, 'maxaps': 2832, 'px': 3766, 'macha': 2719, 'assume': 200, 'mindsetbelieve': 2954, 'cookies': 688, 'jelly': 2138, 'running': 3955, 'feeling': 1457, 'itor': 2078, 'madthen': 2733, 'correctionor': 705, 'lifeand': 2498, 'wants': 4743, 'ba': 231, 'dao': 871, 'halfth': 1725, 'exactly': 1391, 'jide': 2156, 'jeri': 2143, 'kbsubject': 2249, 'lowcost': 2660, 'drvgsto': 1254, 'spring': 4244, 'yay': 4929, 'convincingjust': 685, 'twice': 4595, 'neglect': 3243, 'itjust': 2070, 'tonite': 4534, 'add': 56, 'dearrakhesh': 931, 'offerthe': 3451, 'txtauction': 4598, 'tctxt': 4402, 'pmtmsg': 3640, 'mayb': 2837, 'rite': 3921, 'gd': 1613, 'faster': 1441, 'gals': 1590, 'attached': 205, 'glad': 1650, 'shouted': 4095, 'shorter': 4091, 'eyes': 1418, 'subscribed': 4315, 'helpline': 1778, 'weve': 4795, 'spoken': 4239, 'gist': 1645, 'realize': 3820, 'thousands': 4473, 'premier': 3700, 'gimme': 1639, 'lip': 2542, 'library': 2491, 'realy': 3822, 'confused': 656, 'holla': 1811, 'spare': 4218, 'makes': 2754, 'youcarlos': 4958, 'isare': 2049, 'acting': 46, 'paris': 3546, 'mt': 3127, 'yest': 4942, 'wishing': 4828, 'mas': 2804, 'advance': 69, 'city': 580, 'summer': 4330, 'store': 4288, 'skilgme': 4139, 'tscswinawkage': 4583, 'apsperwksub': 170, 'goin': 1659, 'meetin': 2867, 'wonder': 4848, 'tis': 4498, 'theyre': 4459, 'dramatic': 1215, 'schools': 3994, 'closed': 598, 'apparently': 154, 'drive': 1235, 'inch': 1927, 'damn': 860, 'drunkard': 1252, 'wats': 4757, 'row': 3939, 'space': 4216, 'picking': 3596, 'smokes': 4173, 'begging': 280, 'lovely': 2648, 'sing': 4123, 'guy': 1711, 'slave': 4147, 'opening': 3496, 'couldnt': 725, 'shes': 4070, 'diff': 1066, 'living': 2563, 'perfect': 3574, 'community': 635, 'psms': 3748, 'polyphonic': 3659, 'subpoly': 4313, 'pole': 3652, 'enjoyed': 1351, 'bein': 283, 'thot': 4471, 'ywhere': 4990, 'dogbreath': 1156, 'jan': 2115, 'omg': 3487, 'dictionary': 1054, 'pieces': 3604, 'nic': 3279, 'appt': 163, 'lttimegt': 2680, 'mates': 2816, 'wwwgetzedcouk': 4893, 'wwq': 4888, 'normptone': 3350, 'cashto': 506, 'getstop': 1629, 'php': 3592, 'jx': 2217, 'dled': 1135, 'imp': 1911, 'aint': 96, 'bec': 272, 'ugh': 4608, 'costumes': 718, 'yowifes': 4976, 'hint': 1792, 'borrow': 365, 'bag': 237, 'bid': 299, 'acsmsrewards': 42, 'notifications': 3363, 'model': 3031, 'youi': 4962, 'galileo': 1589, 'dobby': 1140, 'responding': 3891, 'boo': 354, 'gettin': 1630, 'oktake': 3482, 'loveme': 2649, 'xxxx': 4919, 'ache': 35, 'cappuccino': 484, 'teasing': 4410, 'wwwcomuknet': 4890, 'qxj': 3783, 'extra': 1415, 'comuk': 646, 'cm': 604, 'ae': 73, 'alfie': 112, 'moons': 3068, 'ms': 3112, 'charity': 539, 'nokias': 3332, 'polys': 3660, 'zed': 4994, 'profit': 3731, 'hahahause': 1720, 'brain': 383, 'green': 1693, 'mojibiola': 3038, 'reveal': 3903, 'recd': 3828, 'cust': 825, 'mate': 2815, 'hol': 1805, 'havenaot': 1752, 'ages': 87, 'skyped': 4145, 'kz': 2361, 'sura': 4347, 'given': 1647, 'ultimatum': 4614, 'countin': 727, 'aburo': 14, 'surely': 4349, 'successful': 4320, 'inconsiderate': 1936, 'nag': 3182, 'recession': 3836, 'nowsavamobmember': 3380, 'soo': 4196, 'understand': 4622, 'morrow': 3081, 'mother': 3084, 'ibiza': 1874, 'await': 222, 'collection': 622, 'sk': 4138, 'wp': 4874, 'kkwhen': 2319, 'suite': 4327, 'xavier': 4912, 'seconds': 4016, 'warning': 4747, 'playing': 3625, 'jays': 2128, 'impress': 1919, 'doug': 1201, 'stomach': 4279, 'mattermsg': 2826, 'nowi': 3375, 'shoes': 4084, 'wan': 4737, 'inner': 1976, 'version': 4688, 'poor': 3665, 'careful': 492, 'spk': 4234, 'sn': 4177, 'lovejen': 2647, 'returned': 3901, 'fall': 1428, 'worlds': 4862, 'discreet': 1113, 'vip': 4700, 'hai': 1721, 'named': 3190, 'tampa': 4386, 'genius': 1620, 'connections': 662, 'sort': 4204, 'lotta': 2634, 'corvettes': 708, 'lately': 2410, 'yrs': 4979, 'supply': 4342, 'cds': 518, 'virgin': 4701, 'records': 3840, 'mystery': 3177, 'wwwsmsconet': 4901, 'approx': 161, 'consider': 663, 'walls': 4735, 'peaceful': 3568, 'matter': 2825, 'xxxxxx': 4921, 'birds': 310, 'user': 4661, 'dob': 1139, 'asap': 191, 'ta': 4373, 'saved': 3985, 'drop': 1242, 'cuddle': 807, 'nap': 3198, 'shesil': 4071, 'travel': 4564, 'ntt': 3393, 'crbt': 761, 'fixedline': 1500, 'castor': 507, 'liverpool': 2561, 'played': 3622, 'mid': 2935, 'reminder': 3865, 'downloaded': 1204, 'mymoby': 3173, 'knew': 2326, 'lead': 2438, 'wanting': 4742, 'curfew': 819, 'midnight': 2937, 'ear': 1287, 'training': 4556, 'massages': 2806, 'oil': 3469, 'sup': 4337, 'yoyyooo': 4977, 'mac': 2717, 'usb': 4657, 'gibbs': 1636, 'failed': 1425, 'sad': 3961, 'unbelievable': 4618, 'wifehow': 4809, 'murder': 3155, 'nutter': 3410, 'cutter': 837, 'ctter': 803, 'cttergg': 804, 'cttargg': 802, 'ctargg': 799, 'ctagg': 798, 'ie': 1886, 'superb': 4339, 'opportunity': 3500, 'outstanding': 3519, 'invoices': 2027, 'possible': 3671, 'teach': 4404, 'derek': 1006, 'taylor': 4395, 'worst': 4868, 'charles': 540, 'lastest': 2405, 'marley': 2793, 'dizzee': 1133, 'libertines': 2490, 'nookii': 3339, 'plus': 3632, 'greet': 1694, 'white': 4801, 'stores': 4289, 'january': 2119, 'male': 2760, 'sale': 3968, 'gay': 1607, 'cheaper': 547, 'peak': 3569, 'ym': 4948, 'nauseous': 3214, 'pissed': 3610, 'sweets': 4362, 'pig': 3605, 'dieting': 1065, 'chip': 569, 'iam': 1869, 'addicted': 59, 'msging': 3115, 'wrong': 4879, 'photo': 3590, 'registered': 3852, 'yck': 4930, 'ma': 2713, 'attend': 207, 'magicalsongsblogspotcom': 2740, 'diet': 1064, 'ate': 201, 'kvb': 2358, 'acc': 19, 'mo': 3016, 'moments': 3043, 'matthew': 2828, 'lux': 2703, 'skxh': 4142, 'wear': 4764, 'jeans': 2135, 'fever': 1465, 'kkare': 2310, 'hp': 1843, 'bleh': 325, 'tons': 4535, 'places': 3615, 'medical': 2860, 'recently': 3835, 'scores': 3998, 'application': 156, 'ogunrinde': 3465, 'expensive': 1407, 'photos': 3591, 'tcrw': 4398, 'lodging': 2584, 'dict': 1053, 'truth': 4577, 'gravity': 1689, 'carefully': 493, 'feels': 1458, 'heavy': 1768, 'dobbys': 1141, 'bowl': 372, 'filthy': 1482, 'ull': 4613, 'brand': 384, 'decision': 947, 'simpler': 4120, 'magical': 2739, 'welp': 4787, 'natwest': 3212, 'validhrs': 4676, 'site': 4133, 'necklace': 3230, 'youthats': 4968, 'wife': 4808, 'likingbe': 2517, 'racing': 3784, 'earlier': 1288, 'chicken': 560, 'rice': 3911, 'closes': 601, 'ad': 54, 'crap': 752, 'borin': 362, 'boring': 363, 'nxt': 3415, 'il': 1893, 'notebook': 3358, 'salary': 3967, 'chocolate': 570, 'dayshe': 906, 'potential': 3677, 'talent': 4382, 'reckon': 3837, 'videophones': 4693, 'videochat': 4692, 'java': 2124, 'dload': 1137, 'polyph': 3658, 'noline': 3333, 'rentl': 3873, 'fuckin': 1573, 'dropped': 1243, 'loving': 2656, 'yun': 4984, 'ubi': 4606, 'ireneere': 2039, 'cresubi': 772, 'tech': 4411, 'wkg': 4836, 'daysin': 907, 'butt': 434, 'sore': 4200, 'party': 3552, 'miracle': 2972, 'jesus': 2148, 'blessed': 327, 'yetunde': 4944, 'quiet': 3777, 'aunts': 212, 'helen': 1772, 'nobut': 3319, 'heard': 1763, 'doublemins': 1197, 'doubletxt': 1199, 'contract': 674, 'ltemailgt': 2677, 'kerala': 2262, 'terrible': 4429, 'fan': 1432, 'meat': 2856, 'lovers': 2653, 'dearregret': 932, 'cudnt': 810, 'frm': 1565, 'ctla': 801, 'ishtamayoohappy': 2052, 'exe': 1398, 'don': 1176, 'knowwait': 2336, 'anniversary': 132, 'prey': 3712, 'images': 1901, 'cougarpen': 720, 'secretly': 4019, 'fancies': 1433, 'dateboxessexcmxn': 889, 'pattern': 3559, 'throat': 4476, 'plm': 3630, 'asleep': 198, 'foreign': 1529, 'stamps': 4252, 'lecture': 2453, 'sheffield': 4067, 'nanny': 3196, 'raise': 3791, 'zoe': 4999, 'defo': 967, 'millions': 2947, 'lekdog': 2464, 'setting': 4052, 'filling': 1478, 'loverboy': 2652, 'sufficient': 4324, 'thx': 4483, 'edison': 1316, 'rightly': 3915, 'fool': 1524, 'speechless': 4225, 'viva': 4704, 'gm': 1651, 'roast': 3925, 'lshb': 2670, 'concentrate': 647, 'educational': 1320, 'flirting': 1512, 'bloke': 332, 'chatting': 545, 'walked': 4732, 'doesnaot': 1152, 'kickoff': 2279, 'june': 2208, 'rd': 3808, 'sells': 4031, 'data': 887, 'thesis': 4458, 'hiya': 1796, 'april': 164, 'les': 2475, 'drunk': 1251, 'sends': 4038, 'ink': 1973, 'deciding': 945, 'eastenders': 1301, 'flower': 1514, 'compare': 638, 'violet': 4699, 'tulip': 4590, 'lily': 2519, 'wkentp': 4835, 'technical': 4412, 'support': 4343, 'daysso': 908, 'prepared': 3704, 'works': 4860, 'bitch': 317, 'dentist': 993, 'revealed': 3904, 'wu': 4884, 'bathing': 257, 'xchat': 4913, 'lul': 2692, 'juicy': 2201, 'nurses': 3405, 'obese': 3425, 'oi': 3467, 'na': 3179, 'kicchu': 2276, 'kaaj': 2218, 'korte': 2347, 'korche': 2344, 'movies': 3099, 'copies': 695, 'convey': 680, 'regards': 3850, 'vijay': 4694, 'pic': 3593, 'dearer': 926, 'dem': 985, 'meshe': 2908, 'dreamlove': 1222, 'breath': 389, 'namemy': 3191, 'heri': 1781, 'fight': 1467, 'craziest': 758, 'herlove': 1782, 'singing': 4124, 'curry': 823, 'makiing': 2755, 'lotwill': 2636, 'frndship': 1568, 'needle': 3237, 'clock': 595, 'evn': 1383, 'meetitz': 2870, 'alwys': 120, 'hands': 1733, 'sipix': 4127, 'digital': 1076, 'mbp': 2840, 'warranty': 4748, 'paps': 3542, 'doctor': 1146, 'tomorro': 4526, 'subscriber': 4317, 'receipt': 3829, 'fret': 1558, 'ne': 3220, 'interesting': 2004, 'uni': 4628, 'depressed': 1002, 'wind': 4816, 'drops': 1244, 'black': 319, 'aiyah': 101, 'information': 1962, 'httpwwwurawinnercom': 1851, 'surprise': 4351, 'awaiting': 223, 'online': 3491, 'italian': 2062, 'grins': 1696, 'math': 2817, 'rocks': 3927, 'nothis': 3361, 'durban': 1275, 'convenience': 677, 'speed': 4226, 'speedchat': 4227, 'cancel': 478, 'okok': 3480, 'okthenwhats': 3483, 'aiyar': 102, 'survey': 4353, 'wwwtxtcom': 4905, 'catching': 510, 'gal': 1588, 'falls': 1430, 'whos': 4803, 'difficulties': 1073, 'correction': 704, 'howz': 1842, 'sar': 3972, 'wearing': 4765, 'film': 1480, 'hgsuitelandsrowwjhl': 1787, 'copied': 694, 'notified': 3364, 'luck': 2684, 'marketing': 2791, 'raining': 3790, 'station': 4265, 'tank': 4387, 'fil': 1473, 'cute': 833, 'kaitlyn': 2223, 'adult': 68, 'danger': 869, 'neighbors': 3246, 'silently': 4116, 'ntswt': 3392, 'drms': 1240, 'roommate': 3934, 'wrc': 4875, 'rally': 3794, 'oz': 3524, 'lucozade': 2687, 'energy': 1345, 'le': 2437, 'packs': 3528, 'lucozadecoukwrc': 2688, 'itcould': 2065, 'melody': 2882, 'horrible': 1828, 'macs': 2726, 'toot': 4540, 'bigger': 302, 'nw': 3414, 'islands': 2054, 'chennai': 557, 'cstore': 797, 'annoying': 134, 'makin': 2756, 'lodge': 2583, 'shame': 4062, 'jordan': 2185, 'celeb': 519, 'pocketbabecouk': 3646, 'apswk': 171, 'voicemail': 4710, 'neft': 3241, 'credited': 768, 'beneficiary': 292, 'natuition': 3209, 'understanding': 4623, 'choice': 571, 'enter': 1352, 'wwwldewcomsubswinppmx': 4896, 'appreciated': 160, 'apart': 150, 'delivered': 980, 'strong': 4300, 'arms': 182, 'maaaan': 2714, 'walmart': 4736, 'ilol': 1897, 'mite': 2996, 'creepy': 771, 'lunchtime': 2694, 'kkim': 2315, 'finewhen': 1489, 'complete': 641, 'score': 3997, 'easier': 1297, 'nok': 3329, 'txtin': 4600, 'ptone': 3751, 'apps': 162, 'rofl': 3928, 'invest': 2020, 'anti': 143, 'hr': 1845, 'delay': 973, 'accommodation': 24, 'wwwtextcompcom': 4903, 'purse': 3759, 'edrunk': 1318, 'dancce': 863, 'drum': 1250, 'nhite': 3275, 'xxxxxxx': 4922, 'morn': 3072, 'europe': 1373, 'chinese': 568, 'docs': 1145, 'songs': 4193, 'havin': 1754, 'mc': 2841, 'hun': 1857, 'nitetell': 3309, 'rang': 3799, 'melnite': 2881, 'monlrsx': 3056, 'flip': 1510, 'nino': 3304, 'cbe': 514, 'honey': 1817, 'jd': 2132, 'executive': 1399, 'parents': 3545, 'picked': 3595, 'downstem': 1208, 'inperialmusic': 1981, 'listeningthe': 2551, 'weirdest': 4783, 'johnaosounds': 2168, 'insects': 1984, 'molestedsomeone': 3040, 'acid': 37, 'didntgive': 1058, 'hunny': 1859, 'exact': 1390, 'moro': 3077, 'jane': 2117, 'callsapsminmoremobsemspoboxpowa': 466, 'tee': 4413, 'cell': 522, 'thts': 4480, 'dough': 1202, 'control': 676, 'mode': 3030, 'jerry': 2145, 'irritates': 2044, 'fails': 1426, 'express': 1413, 'drinkin': 1231, 'wondering': 4850, 'dog': 1155, 'dealfarm': 921, 'tour': 4550, 'deposit': 1000, 'jap': 2121, 'disappeared': 1103, 'birthdate': 313, 'dreams': 1223, 'nydc': 3417, 'destination': 1021, 'favour': 1450, 'ola': 3485, 'ipads': 2034, 'garbage': 1599, 'novelty': 3370, 'items': 2066, 'fran': 1545, 'broke': 402, 'knackered': 2324, 'janx': 2120, 'ps': 3747, 'dads': 852, 'designation': 1013, 'software': 4185, 'developer': 1033, 'jamster': 2111, 'gold': 1661, 'logosmusicnews': 2594, 'jamstercouk': 2112, 'lions': 2541, 'lionm': 2539, 'lionp': 2540, 'wwwringtonescouk': 4899, 'original': 3512, 'jokin': 2178, 'bb': 260, 'alrite': 119, 'idiot': 1884, 'colours': 626, 'darker': 875, 'whenevr': 4798, 'listn': 2552, 'potter': 3678, 'phoenix': 3586, 'harry': 1748, 'readers': 3814, 'shd': 4065, 'minus': 2968, 'coveragd': 740, 'february': 1455, 'rush': 3957, 'canada': 475, 'cares': 494, 'goodnoon': 1671, 'interest': 2002, 'mondaynxt': 3047, 'vl': 4705, 'chill': 565, 'frens': 1557, 'korean': 2345, 'leonas': 2473, 'chillin': 566, 'super': 4338, 'freeday': 1549, 'georges': 1626, 'jordantxt': 2186, 'saucy': 3982, 'tmrw': 4508, 'soul': 4209, 'misss': 2987, 'youuuuu': 4971, 'ned': 3231, 'convince': 682, 'tht': 4479, 'hurting': 1863, 'main': 2750, 'sweetie': 4361, 'blackberry': 320, 'melike': 2879, 'pple': 3687, 'marry': 2799, 'problems': 3725, 'chain': 527, 'whn': 4802, 'arrested': 185, 'suntec': 4336, 'dance': 864, 'moji': 3037, 'messenger': 2924, 'reaching': 3811, 'fantasies': 1435, 'croydon': 785, 'cr': 746, 'wb': 4761, 'fill': 1476, 'bar': 248, 'write': 4876, 'cover': 739, 'screen': 4006, 'gently': 1624, 'bears': 269, 'nick': 3283, 'tom': 4521, 'fact': 1423, 'upload': 4645, 'juan': 2199, 'linerental': 2530, 'calloptoutlf': 462, 'tlk': 4503, 'ideal': 1881, 'walking': 4733, 'arm': 180, 'shot': 4093, 'tirunelvali': 4496, 'netno': 3256, 'storming': 4290, 'phne': 3585, 'meaning': 2849, 'margaret': 2787, 'girlfrnd': 1643, 'grahmbell': 1684, 'invnted': 2026, 'telphone': 4421, 'moralone': 3071, 'popped': 3667, 'ironing': 2042, 'nz': 3422, 'players': 3624, 'unsold': 4636, 'effect': 1325, 'cafe': 443, 'kidding': 2282, 'shld': 4082, 'stretch': 4298, 'detailed': 1024, 'sinco': 4122, 'payee': 3561, 'icicibankcom': 1878, 'urn': 4655, 'beware': 297, 'frauds': 1546, 'share': 4064, 'disclose': 1109, 'vote': 4713, 'caring': 496, 'losers': 2624, 'kaiez': 2221, 'tuition': 4589, 'gee': 1615, 'option': 3502, 'practicing': 3694, 'babies': 234, 'kkany': 2308, 'noncomittal': 3336, 'beneath': 291, 'pale': 3535, 'moon': 3067, 'goodnite': 1670, 'pmsgrcvdhgsuitelandsrowwjhl': 3638, 'tells': 4419, 'totally': 4546, 'nofew': 3321, 'rem': 3859, 'silver': 4117, 'lmao': 2568, 'silence': 4114, 'wwwldewcom': 4895, 'exams': 1393, 'revision': 3907, 'interviw': 2012, 'exeter': 1400, 'determine': 1027, 'arsenal': 187, 'dartboard': 883, 'doubles': 1198, 'coat': 610, 'painful': 3533, 'everybody': 1380, 've': 4683, 'intrepid': 2015, 'duo': 1274, 'sen': 4034, 'missin': 2983, 'guilty': 1710, 'aiya': 100, 'cardiff': 488, 'addie': 60, 'tues': 4587, 'bright': 392, 'restaurant': 3895, 'textpod': 4441, 'pod': 3647, 'wwwtextpodnet': 4904, 'ducking': 1263, 'desperate': 1018, 'earlierwe': 1289, 'monkeys': 3055, 'certainly': 525, 'practical': 3692, 'stupidits': 4309, 'matched': 2813, 'mails': 2749, 'claire': 583, 'bought': 370, 'costing': 715, 'offering': 3449, 'lyfu': 2708, 'innu': 1979, 'mundhe': 3152, 'lyf': 2707, 'ke': 2252, 'marriageprogram': 2796, 'edhae': 1315, 'meow': 2901, 'meowd': 2902, 'aah': 0, 'xxxxxxxxx': 4923, 'latests': 2415, 'nyusa': 3421, 'pmt': 3639, 'msgrcvd': 3117, 'lucy': 2689, 'hubby': 1852, 'meetins': 2869, 'cumin': 814, 'callsapsminmobsmorelkpoboxhpfl': 465, 'wonders': 4851, 'personality': 3578, 'nature': 3211, 'dose': 1192, 'incomm': 1935, 'blakes': 322, 'lotr': 2631, 'keeping': 2254, 'google': 1673, 'maps': 2781, 'modules': 3035, 'purity': 3757, 'messageits': 2914, 'musthu': 3164, 'investigate': 2021, 'vomit': 4711, 'moneyas': 3050, 'youmoney': 4966, 'sha': 4059, 'centre': 524, 'crucial': 786, 'jsco': 2195, 'leadership': 2439, 'linux': 2537, 'dawhats': 897, 'total': 4545, 'stars': 4258, 'karaoke': 2239, 'testing': 4434, 'loved': 2646, 'nit': 3307, 'leannewhat': 2444, 'file': 1474, 'format': 1537, 'disc': 1108, 'internet': 2008, 'kall': 2227, 'lovin': 2655, 'arrive': 186, 'shortly': 4092, 'install': 1990, 'corect': 699, 'sarcasm': 3974, 'forum': 1539, 'ron': 3932, 'aunt': 211, 'nike': 3298, 'screaming': 4005, 'dang': 868, 'unfortunately': 4627, 'airport': 98, 'auction': 208, 'difficult': 1072, 'earliest': 1290, 'nordstrom': 3346, 'konw': 2343, 'waht': 4722, 'rael': 3787, 'gving': 1714, 'yuo': 4986, 'exmpel': 1403, 'jsut': 2198, 'ese': 1364, 'tihs': 4489, 'evrey': 1386, 'splleing': 4236, 'wrnog': 4878, 'sitll': 4134, 'raed': 3786, 'wihtuot': 4811, 'ayn': 230, 'mitsake': 2997, 'sleepsweet': 4152, 'degree': 968, 'joining': 2173, 'finance': 1485, 'prospects': 3743, 'filled': 1477, 'jia': 2154, 'bishan': 315, 'nearer': 3223, 'sux': 4354, 'buff': 420, 'south': 4214, 'preferably': 3698, 'kegger': 2256, 'costs': 716, 'rhythm': 3910, 'gas': 1603, 'gang': 1595, 'adventure': 70, 'tablets': 4375, 'excellent': 1394, 'finishing': 1494, 'doors': 1188, 'wifi': 4810, 'image': 1900, 'noi': 3323, 'rumour': 3953, 'kalainar': 2225, 'officethenampet': 3455, 'nosy': 3356, 'idk': 1885, 'imposter': 1918, 'meneed': 2892, 'itmay': 2075, 'destiny': 1022, 'listener': 2549, 'boyfriend': 379, 'courageous': 734, 'determined': 1028, 'dependable': 997, 'driver': 1236, 'brothas': 405, 'chasing': 543, 'jules': 2202, 'nig': 3286, 'leonardo': 2472, 'dereks': 1007, 'kicks': 2280, 'john': 2167, 'dime': 1080, 'transfer': 4559, 'falling': 1429, 'force': 1528, 'smeone': 4167, 'millers': 2945, 'fire': 1495, 'flame': 1504, 'crushes': 791, 'propose': 3741, 'blame': 323, 'gods': 1657, 'blessings': 329, 'leo': 2470, 'kthen': 2352, 'donewant': 1179, 'dippeditinadew': 1092, 'lovingly': 2657, 'itwhichturnedinto': 2085, 'gifted': 1638, 'tomeandsaidthis': 4523, 'instead': 1995, 'cya': 841, 'freezing': 1555, 'inforingtonekingcouk': 1960, 'batch': 254, 'flaky': 1503, 'sooooo': 4199, 'laughing': 2419, 'winning': 4821, 'tooo': 4538, 'nte': 3391, 'confuses': 657, 'doesnut': 1154, 'wating': 4756, 'british': 398, 'hotels': 1834, 'london': 2600, 'bx': 439, 'swss': 4368, 'buzz': 438, 'adoring': 66, 'eerie': 1323, 'title': 4499, 'dracula': 1212, 'titles': 4500, 'ghost': 1635, 'addamsfa': 57, 'munsters': 3153, 'exorcist': 1404, 'twilight': 4596, 'brought': 407, 'constant': 666, 'cared': 490, 'wasnt': 4749, 'surprised': 4352, 'allow': 116, 'lnly': 2570, 'jst': 2196, 'moby': 3029, 'msgp': 3116, 'hlp': 1798, 'keen': 2253, 'switch': 4366, 'dammit': 859, 'event': 1379, 'laden': 2369, 'bagi': 238, 'lei': 2463, 'action': 47, 'wwwmovietriviatv': 4898, 'waking': 4729, 'partnership': 3551, 'lookin': 2610, 'daytime': 910, 'janinexx': 2118, 'inside': 1987, 'dimension': 1081, 'meaningful': 2850, 'lmaonice': 2569, 'monthly': 3062, 'mobsicom': 3027, 'dub': 1260, 'je': 2133, 'ideas': 1882, 'sight': 4111, 'remain': 3860, 'maintain': 2751, 'shjas': 4081, 'cramps': 751, 'digits': 1077, 'received': 3832, 'ringtoneget': 3919, 'freesend': 1554, 'weekstop': 4779, 'nan': 3194, 'dudes': 1265, 'poker': 3651, 'mushy': 3160, 'ran': 3795, 'ordered': 3508, 'father': 1444, 'messy': 2925, 'kilos': 2289, 'traffic': 4554, 'moves': 3097, 'slip': 4159, 'nus': 3407, 'likes': 2515, 'dislikes': 1118, 'keeps': 2255, 'queen': 3769, 'desparately': 1017, 'fren': 1556, 'promises': 3735, 'gotten': 1679, 'mi': 2932, 'unknown': 4632, 'album': 108, 'connect': 660, 'vu': 4718, 'bcmwcnxx': 264, 'boys': 380, 'infovipclubu': 1966, 'missionary': 2985, 'hook': 1819, 'standing': 4255, 'laurie': 2422, 'stick': 4275, 'jon': 2182, 'bin': 308, 'dinero': 1085, 'james': 2110, 'maangalyam': 2715, 'alaipayuthe': 107, 'mandy': 2772, 'chosen': 573, 'easter': 1302, 'drawplease': 1218, 'telephone': 4416, 'di': 1044, 'bahamas': 240, 'callfreefone': 458, 'cruise': 789, 'ofaps': 3442, 'calm': 468, 'downon': 1206, 'itxt': 2086, 'iwana': 2095, 'doin': 1163, 'nething': 3255, 'dine': 1083, 'youto': 4969, 'iaom': 1870, 'social': 4182, 'inspection': 1988, 'nursery': 3404, 'detailsi': 1026, 'slowly': 4163, 'habit': 1717, 'follow': 1519, 'itmail': 2074, 'schedule': 3992, 'needing': 3236, 'stuck': 4302, 'dileepthank': 1079, 'muchand': 3133, 'contacts': 670, 'mentionedtomorrow': 2896, 'latei': 2409, 'forgets': 1533, 'joys': 2192, 'mandan': 2770, 'ibh': 1872, 'txtauctiontxt': 4599, 'wordstart': 4856, 'nowt': 3384, 'edition': 1317, 'selling': 4030, 'buns': 426, 'adore': 65, 'invaders': 2018, 'orig': 3511, 'arcade': 173, 'console': 665, 'ocoukgames': 3438, 'settings': 4053, 'alert': 110, 'cro': 780, 'atlanta': 202, 'created': 763, 'fills': 1479, 'gaps': 1597, 'holding': 1808, 'arun': 190, 'transfr': 4561, 'takin': 4380, 'philosophy': 3584, 'ui': 4610, 'didnaot': 1056, 'intend': 1999, 'iwasmarinethataos': 2096, 'itriedtell': 2080, 'foley': 1518, 'exciting': 1395, 'prizes': 3721, 'eye': 1417, 'wwwwincouk': 4908, 'desparate': 1016, 'learned': 2446, 'answering': 140, 'iraq': 2038, 'beer': 277, 'combine': 627, 'jess': 2147, 'sian': 4106, 'db': 913, 'dirty': 1100, 'dying': 1283, 'lifting': 2507, 'package': 3527, 'dec': 939, 'yould': 4964, 'mwahs': 3170, 'gga': 1634, 'husband': 1865, 'neo': 3249, 'dps': 1210, 'norm': 3347, 'list': 2546, 'joanna': 2160, 'dagood': 853, 'replacement': 3877, 'murali': 3154, 'telly': 4420, 'mia': 2933, 'kissing': 2302, 'upto': 4648, 'minstxtmth': 2966, 'btooth': 415, 'matric': 2823, 'toa': 4511, 'payoh': 3564, 'btnationalrate': 414, 'kyou': 2360, 'godi': 1656, 'youclean': 4959, 'bloodsend': 338, 'itplspls': 2079, 'hate': 1750, 'delete': 975, 'wednesday': 4771, 'skype': 4144, 'laundry': 2421, 'underwear': 4625, 'waheed': 4721, 'fathima': 1445, 'mmmm': 3008, 'pushes': 3761, 'knees': 2325, 'thnk': 4469, 'jontin': 2184, 'nearly': 3224, 'masters': 2810, 'avoiding': 221, 'excuse': 1396, 'jog': 2165, 'abta': 13, 'season': 4012, 'lark': 2403, 'uh': 4609, 'heads': 1761, 'lim': 2520, 'vday': 4682, 'therere': 4456, 'table': 4374, 'lambda': 2379, 'build': 423, 'snowman': 4181, 'fights': 1470, 'ikea': 1890, 'ofice': 3460, 'cn': 606, 'oficegot': 3461, 'duffer': 1267, 'prescription': 3706, 'cook': 686, 'electricity': 1335, 'kadeem': 2219, 'fujitsu': 1576, 'lifebook': 2499, 'scold': 3996, 'zhong': 4997, 'se': 4008, 'act': 43, 'accordingly': 29, 'mineall': 2955, 'wud': 4885, 'prompts': 3737, 'carry': 499, 'disturbing': 1126, 'avatar': 217, 'nigro': 3297, 'stops': 4285, 'cleaning': 588, 'upset': 4646, 'constantly': 667, 'ecstasy': 1313, 'minded': 2953, 'minapn': 2951, 'lsbb': 2669, 'flies': 1507, 'costa': 712, 'sol': 4187, 'toclaim': 4512, 'stockport': 4278, 'costapspm': 714, 'maxmins': 2835, 'kkwhy': 2321, 'lousy': 2641, 'cat': 508, 'woken': 4844, 'hip': 1793, 'aka': 105, 'minstand': 2964, 'ic': 1876, 'mary': 2803, 'deduct': 955, 'monkey': 3053, 'honeybee': 1818, 'sweetest': 4359, 'laughed': 2418, 'waitu': 4727, 'havnt': 1756, 'moral': 3069, 'crack': 748, 'gmgngegn': 1652, 'infra': 1968, 'nvm': 3412, 'delhi': 977, 'thinkin': 4464, 'held': 1771, 'boat': 349, 'length': 2467, 'fringe': 1564, 'distract': 1123, 'corrct': 702, 'dane': 867, 'proof': 3738, 'helpp': 1779, 'provided': 3746, 'tonesyoucouk': 4531, 'curtsey': 824, 'yeh': 4934, 'memory': 2890, 'mon': 3045, 'converted': 679, 'yohere': 4953, 'downloads': 1205, 'members': 2885, 'major': 2753, 'mel': 2878, 'birth': 312, 'lb': 2432, 'intention': 2000, 'responsibility': 3893, 'rule': 3951, 'inlude': 1974, 'freefone': 1551, 'dha': 1040, 'marrgeremembr': 2794, 'kitty': 2306, 'natural': 3210, 'onwards': 3492, 'theatre': 4453, 'obviously': 3430, 'crammed': 750, 'lie': 2495, 'kid': 2281, 'boost': 359, 'sitting': 4135, 'jot': 2189, 'pack': 3526, 'infernal': 1957, 'affair': 76, 'including': 1933, 'calicut': 448, 'aom': 149, 'er': 1359, 'parco': 3544, 'nb': 3217, 'ahmad': 93, 'hallaq': 1726, 'boxnqp': 374, 'lyk': 2710, 'bck': 262, 'giv': 1646, 'color': 624, 'drugdealer': 1248, 'gender': 1618, 'sleepwellamptake': 4153, 'messagestext': 2920, 'nowuse': 3386, 'lawu': 2426, 'normally': 3349, 'donyt': 1185, 'latelyxxx': 2411, 'mca': 2842, 'rich': 3912, 'official': 3457, 'flag': 1501, 'yer': 4938, 'eng': 1346, 'wwx': 4909, 'yor': 4954, 'jason': 2123, 'tming': 4505, 'subs': 4314, 'cutest': 835, 'dice': 1051, 'art': 188, 'inclusive': 1934, 'mathe': 2818, 'armand': 181, 'vomiting': 4712, 'rub': 3947, 'feet': 1460, 'lara': 2399, 'clever': 593, 'med': 2859, 'stamped': 4251, 'bray': 386, 'wicklow': 4804, 'eire': 1332, 'nobbing': 3316, 'nickey': 3284, 'vikky': 4695, 'wwwidewcom': 4894, 'skillgame': 4140, 'winaweek': 4815, 'ppermesssubscription': 3685, 'mad': 2727, 'argh': 177, 'looked': 2609, 'xam': 4911, 'term': 4427, 'manage': 2764, 'intha': 2013, 'ipaditan': 2033, 'shitload': 4080, 'diamonds': 1049, 'tessypls': 4432, 'favor': 1448, 'nimyapls': 3302, 'shijas': 4072, 'aunty': 213, 'china': 567, 'noisy': 3326, 'needa': 3233, 'mcat': 2843, 'manual': 2778, 'marsms': 2800, 'sacrifice': 3960, 'beg': 279, 'expecting': 1406, 'creativity': 765, 'morphine': 3079, 'stayin': 4269, 'sorted': 4205, 'nowstill': 3383, 'mrur': 3110, 'satisfy': 3980, 'pix': 3611, 'cld': 586, 'prefer': 3697, 'nosh': 3355, 'lololo': 2598, 'occupied': 3432, 'kindly': 2293, 'documents': 1148, 'miles': 2942, 'cutie': 836, 'wales': 4730, 'killed': 2286, 'colleagues': 618, 'sed': 4021, 'mood': 3066, 'minuts': 2971, 'latr': 2416, 'caken': 445, 'kidz': 2284, 'sofa': 4183, 'labor': 2364, 'smashed': 4166, 'dent': 991, 'everybodys': 1381, 'crickiting': 776, 'imin': 1906, 'tok': 4518, 'specific': 4224, 'jaklin': 2108, 'nearby': 3222, 'ntwk': 3394, 'deals': 923, 'mf': 2929, 'pages': 3530, 'figures': 1472, 'moseley': 3083, 'dayswill': 909, 'affectionate': 79, 'loveable': 2645, 'noble': 3317, 'intimate': 2014, 'cousin': 738, 'excuses': 1397, 'rajipls': 3793, 'nimya': 3301, 'legs': 2460, 'neck': 3229, 'continue': 673, 'holy': 1813, 'billion': 306, 'classes': 585, 'distance': 1122, 'mirror': 2973, 'turning': 4592, 'freak': 1547, 'ref': 3845, 'jod': 2164, 'keris': 2264, 'belive': 285, 'intentions': 2001, 'slots': 4161, 'accordin': 28, 'discussed': 1115, 'knocking': 2329, 'nolistenedthe': 3334, 'nelson': 3248, 'temp': 4422, 'display': 1121, 'newspapers': 3273, 'soup': 4212, 'yummmm': 4982, 'management': 2767, 'include': 1931, 'regular': 3854, 'prem': 3699, 'msgsubscription': 3122, 'morro': 3080, 'dena': 988, 'spoiled': 4237, 'complaint': 640, 'doctors': 1147, 'lounge': 2640, 'lk': 2564, 'role': 3930, 'lov': 2642, 'checked': 552, 'dust': 1278, 'shagged': 4060, 'meaningless': 2851, 'jones': 2183, 'inever': 1954, 'newshype': 3272, 'bedrm': 275, 'unable': 4617, 'waited': 4724, 'wkend': 4834, 'journey': 2190, 'huge': 1854, 'marking': 2792, 'letters': 2482, 'mids': 2938, 'oranges': 3505, 'upd': 4641, 'annie': 131, 'remind': 3864, 'mailbox': 2746, 'messaging': 2922, 'retrieve': 3899, 'hrishi': 1846, 'nothin': 3360, 'poem': 3648, 'cheer': 554, 'tear': 4408, 'thatll': 4450, 'quizwin': 3780, 'duchess': 1262, 'cornwall': 700, 'sp': 4215, 'bags': 239, 'dozens': 1209, 'naseeb': 3201, 'kisi': 2299, 'ko': 2339, 'kuch': 2355, 'nahi': 3185, 'miltazindgi': 2948, 'wo': 4842, 'jo': 2159, 'zindgi': 4998, 'jeetey': 2136, 'worse': 4867, 'dan': 861, 'nqp': 3387, 'aww': 229, 'deadwell': 917, 'jez': 2152, 'iscoming': 2050, 'staring': 4257, 'unnecessarily': 4634, 'ringtones': 3920, 'nohe': 3322, 'spook': 4240, 'halloween': 1727, 'logopic': 2592, 'issue': 2060, 'weigh': 4780, 'regret': 3853, 'fantasy': 1437, 'football': 1526, 'sky': 4143, 'gamestar': 1593, 'active': 49, 'apsk': 167, 'scoring': 3999, 'nowsky': 3382, 'monoc': 3058, 'monos': 3059, 'opinions': 3499, 'measure': 2855, 'propsd': 3742, 'gv': 1713, 'lv': 2705, 'lttrs': 2681, 'threw': 4475, 'thm': 4468, 'aproach': 165, 'dt': 1258, 'truck': 4572, 'speeding': 4228, 'wn': 4840, 'girld': 1642, 'hw': 1867, 'instantly': 1994, 'thy': 4484, 'lived': 2559, 'happily': 1742, 'gthr': 1702, 'drinking': 1232, 'evrydy': 1388, 'msgsd': 3119, 'paragon': 3543, 'bluff': 346, 'impossible': 1917, 'draws': 1219, 'sary': 3976, 'added': 58, 'wwwfullonsmscom': 4892, 'gn': 1653, 'pussy': 3762, 'messageno': 2915, 'responcewhat': 3889, 'happend': 1738, 'piece': 3603, 'wiskey': 4829, 'brandy': 385, 'rum': 3952, 'gin': 1640, 'vodka': 4708, 'scotch': 4000, 'shampain': 4063, 'kudiyarasu': 2356, 'dhina': 1041, 'vaazhthukkal': 4671, 'kg': 2271, 'sugar': 4325, 'limits': 2524, 'dumb': 1269, 'thangam': 4444, 'okey': 3476, 'doke': 1168, 'dressed': 1228, 'laying': 2429, 'kills': 2288, 'neshanthtel': 3251, 'kay': 2246, 'roger': 3929, 'nasty': 3202, 'wasted': 4751, 'christ': 574, 'dialogue': 1047, 'solve': 4188, 'murdered': 3156, 'police': 3653, 'questioned': 3772, 'siri': 4129, 'cooking': 689, 'gardener': 1601, 'vegetables': 4685, 'housemaid': 1838, 'neighbour': 3247, 'murderer': 3157, 'brilliant': 393, 'dryer': 1256, 'science': 3995, 'push': 3760, 'answered': 139, 'madamregret': 2729, 'disturbancemight': 1125, 'dlf': 1136, 'informedrgdsrakheshkerala': 1964, 'settle': 4054, 'bloo': 335, 'kbut': 2250, 'offline': 3459, 'ithis': 2068, 'wrote': 4880, 'indians': 1949, 'swiss': 4365, 'directors': 1097, 'lac': 2365, 'crore': 781, 'deposited': 1001, 'budget': 419, 'jobs': 2162, 'lane': 2390, 'citizen': 579, 'imf': 1905, 'politicians': 3654, 'rights': 3916, 'corrupt': 707, 'itna': 2076, 'karo': 2241, 'random': 3796, 'donno': 1180, 'properly': 3739, 'kgive': 2272, 'offc': 3444, 'dessert': 1020, 'imaginationmy': 1902, 'pongaldo': 3662, 'sry': 4247, 'furniture': 1584, 'lock': 2581, 'locks': 2582, 'key': 2266, 'jenne': 2140, 'easiest': 1298, 'ru': 3946, 'kdo': 2251, 'daurgent': 895, 'jungle': 2209, 'kanji': 2233, 'drinkpa': 1233, 'drizzling': 1239, 'shoving': 4096, 'papers': 3540, 'greetings': 1695, 'drama': 1213, 'strange': 4294, 'necessity': 3228, 'released': 3858, 'cosign': 710, 'aclpm': 39, 'neededsalary': 3235, 'mssuman': 3126, 'indyarockscom': 1953, 'resume': 3898, 'datoday': 893, 'cars': 500, 'bids': 300, 'happens': 1741, 'kanowhr': 2237, 'maga': 2735, 'yunny': 4985, 'ktv': 2353, 'misplaced': 2979, 'mmmmm': 3009, 'medicine': 2861, 'plenty': 3629, 'relatives': 3856, 'deliver': 979, 'benefits': 293, 'accumulation': 33, 'incident': 1929, 'violence': 4698, 'goodenvironment': 1666, 'terrific': 4430, 'logos': 2593, 'infotxtcouk': 1965, 'advice': 71, 'ph': 3583, 'dr': 1211, 'superior': 4340, 'motive': 3089, 'achieve': 36, 'korli': 2346, 'dock': 1143, 'newscaster': 3271, 'dabbles': 847, 'amazing': 121, 'picsfree': 3599, 'keyword': 2269, 'ruin': 3949, 'erm': 1361, 'october': 3439, 'issues': 2061, 'department': 996, 'youany': 4956, 'conform': 655, 'instructions': 1996, 'nytecalpmsgp': 3420, 'developed': 1032, 'cysts': 843, 'bc': 261, 'death': 937, 'toshiba': 4543, 'usualiam': 4665, 'dosomething': 1193, 'dabooks': 848, 'wrk': 4877, 'eachother': 1285, 'luckily': 2685, 'madam': 2728, 'knock': 2328, 'innocent': 1978, 'mental': 2894, 'hoped': 1822, 'bills': 307, 'marrow': 2798, 'hon': 1816, 'nightsexcellent': 3294, 'reality': 3819, 'daal': 845, 'lacking': 2366, 'dramastorms': 1214, 'treated': 4566, 'digi': 1075, 'fab': 1420, 'coupla': 731, 'tiwary': 4501, 'bang': 244, 'kochi': 2340, 'cancer': 480, 'pap': 3538, 'arts': 189, 'secretary': 4018, 'massagetiepos': 2807, 'lool': 2613, 'dollar': 1170, 'pull': 3755, 'spending': 4231, 'booty': 360, 'naal': 3180, 'remains': 3861, 'bro': 400, 'bros': 404, 'impressively': 1922, 'whens': 4799, 'lp': 2666, 'apsmsg': 169, 'response': 3892, 'danalla': 862, 'obedient': 3424, 'needy': 3239, 'pouts': 3683, 'stomps': 4280, 'northampton': 3352, 'abj': 6, 'serving': 4050, 'mcflyall': 2844, 'jorgeshock': 2187, 'anna': 130, 'nagar': 3183, 'yupz': 4989, 'modelsony': 3032, 'der': 1005, 'luks': 2691, 'modl': 3033, 'sports': 4242, 'sept': 4045, 'shirts': 4078, 'nudist': 3396, 'petrol': 3581, 'feb': 1454, 'ignore': 1887, 'evr': 1385, 'hugs': 1855, 'snogs': 4179, 'west': 4791, 'fastest': 1442, 'growing': 1700, 'chase': 542, 'tariffs': 4390, 'stoptxt': 4286, 'dd': 914, 'steam': 4273, 'reg': 3849, 'public': 3754, 'govtinstituitions': 1680, 'closedincluding': 599, 'officeunderstand': 3456, 'process': 3727, 'justbeen': 2213, 'mush': 3159, 'missions': 2986, 'luxury': 2704, 'canary': 477, 'maq': 2782, 'sleepy': 4154, 'dare': 873, 'ben': 290, 'mag': 2734, 'middle': 2936, 'crashed': 754, 'cuddled': 808, 'kanagu': 2231, 'diwali': 1131, 'tick': 4485, 'nowonion': 3377, 'derp': 1008, 'abusers': 16, 'lipo': 2543, 'netflix': 3254, 'thgt': 4460, 'lower': 2661, 'impressed': 1920, 'large': 2401, 'dark': 874, 'gudk': 1705, 'exhaust': 1401, 'mittelschmertz': 2998, 'cthen': 800, 'enuff': 1356, 'contents': 672, 'success': 4319, 'instant': 1993, 'division': 1129, 'courtroom': 737, 'creep': 770, 'lil': 2518, 'lies': 2496, 'lasting': 2406, 'mobs': 3026, 'crazyin': 760, 'ymca': 4949, 'property': 3740, 'interflora': 2005, 'maggi': 2737, 'mee': 2864, 'cough': 721, 'nicenicehow': 3281, 'miiiiiiissssssssss': 2939, 'iz': 2097, 'yellow': 4936, 'misscall': 2981, 'jamsterget': 2113, 'doubt': 1200, 'handle': 1732, 'note': 3357, 'japanese': 2122, 'proverb': 3745, 'itu': 2083, 'itleave': 2071, 'strike': 4299, 'coin': 615, 'dancin': 865, 'nora': 3344, 'crucify': 787, 'moved': 3096, 'freedom': 1550, 'durham': 1276, 'seat': 4013, 'porn': 3668, 'painting': 3534, 'acnt': 40, 'nowadayslot': 3373, 'talks': 4385, 'probs': 3726, 'doinat': 1164, 'low': 2659, 'swatch': 4357, 'kkyesterday': 2322, 'ganesh': 1594, 'dress': 1227, 'collecting': 621, 'trips': 4570, 'iuam': 2089, 'isnuat': 2058, 'helloooo': 1776, 'welcomes': 4785, 'celebrate': 520, 'geva': 1632, 'mint': 2967, 'wuld': 4886, 'solved': 4189, 'liquor': 2545, 'flaked': 1502, 'loko': 2595, 'lined': 2529, 'tm': 4504, 'laughs': 2420, 'gary': 1602, 'machines': 2722, 'fucks': 1575, 'sake': 3966, 'mys': 3175, 'bruce': 408, 'downs': 1207, 'cozy': 744, 'nightnobody': 3292, 'chest': 559, 'covers': 741, 'brief': 391, 'description': 1010, 'nuclear': 3395, 'history': 1794, 'iter': 2067, 'jet': 2149, 'nonenowhere': 3337, 'ikno': 1891, 'doesdiscountshitinnit': 1151, 'jabo': 2100, 'abi': 3, 'maniac': 2776, 'manege': 2774, 'hang': 1735, 'ingredients': 1971, 'bell': 286, 'non': 3335, 'nvq': 3413, 'reboot': 3826, 'pt': 3749, 'youkwhere': 4963, 'understood': 4624, 'knowhe': 2331, 'phoned': 3588, 'disconnected': 1111, 'matters': 2827, 'offcampus': 3445, 'improved': 1924, 'msgsp': 3121, 'lingo': 2534, 'minscall': 2963, 'medont': 2862, 'lm': 2567, 'hm': 1799, 'salon': 3969, 'independence': 1944, 'dasara': 885, 'mornings': 3075, 'evenings': 1378, 'raj': 3792, 'lifeis': 2500, 'daywith': 912, 'initiate': 1972, 'usc': 4658, 'payment': 3563, 'dontgettext': 1183, 'lennon': 2469, 'crab': 747, 'waves': 4758, 'footprints': 1527, 'clearing': 591, 'dwn': 1282, 'changes': 533, 'range': 3800, 'smiled': 4169, 'admin': 62, 'kkfrom': 2312, 'abroad': 10, 'visionsmscom': 4702, 'mat': 2811, 'andros': 128, 'isaiahd': 2048, 'meets': 2871, 'foot': 1525, 'penis': 3572, 'sigh': 4109, 'importantly': 1915, 'vth': 4717, 'books': 358, 'madodu': 2730, 'nav': 3215, 'nammanna': 3193, 'eveb': 1376, 'window': 4817, 'lord': 2620, 'nowreply': 3379, 'hill': 1791, 'jp': 2193, 'mofo': 3036, 'maraikara': 2783, 'intrude': 2017, 'removal': 3867, 'blow': 342, 'neville': 3262, 'knowing': 2332, 'nokiap': 3331, 'thurs': 4481, 'cancelled': 479, 'lookatme': 2608, 'mmsto': 3012, 'lifethis': 2501, 'dungerees': 1272, 'decking': 950, 'mentionned': 2897, 'planned': 3618, 'grl': 1697, 'kodstini': 2341, 'agalla': 85, 'madstini': 2732, 'mutai': 3166, 'eerulli': 1324, 'kodthini': 2342, 'kano': 2234, 'messed': 2923, 'mecause': 2858, 'okden': 3475, 'likeyour': 2516, 'countinlots': 728, 'xxxxx': 4920, 'count': 726, 'challenge': 528, 'describe': 1009, 'randomly': 3797, 'otside': 3517, 'leu': 2483, 'tape': 4389, 'films': 1481, 'director': 1096, 'size': 4137, 'wouldnt': 4872, 'loverakhesh': 2651, 'nri': 3389, 'itaos': 2063, 'deserve': 1012, 'tight': 4488, 'lick': 2492, 'diddy': 1055, 'neighbor': 3245, 'av': 215, 'everyday': 1382, 'deam': 924, 'curious': 820, 'auto': 214, 'mus': 3158, 'newquaysend': 3268, 'postcard': 3673, 'bread': 387, 'mahal': 2742, 'knowthis': 2335, 'dusk': 1277, 'redred': 3843, 'bloodblood': 337, 'heartheart': 1766, 'relation': 3855, 'luvs': 2702, 'praying': 3696, 'earning': 1293, 'ding': 1086, 'allowed': 117, 'necessary': 3227, 'hug': 1853, 'lik': 2511, 'luvd': 2700, 'asks': 197, 'disasters': 1106, 'lighters': 2509, 'kkits': 2316, 'lasagna': 2404, 'messaged': 2912, 'drove': 1245, 'deus': 1030, 'deliveredtomorrow': 981, 'tap': 4388, 'spile': 4233, 'broad': 401, 'canal': 476, 'engin': 1347, 'east': 1300, 'howard': 1840, 'musical': 3162, 'leftovers': 2456, 'cooked': 687, 'cheat': 548, 'numberso': 3403, 'ittb': 2082, 'block': 331, 'fromm': 1569, 'smoking': 4174, 'wylie': 4910, 'justify': 2214, 'ruining': 3950, 'meds': 2863, 'itll': 2073, 'muchi': 3134, 'aboutas': 9, 'merememberin': 2904, 'ofsi': 3462, 'ee': 1321, 'odalebeku': 3440, 'maruti': 2801, 'mahaveer': 2743, 'janarige': 2116, 'ivatte': 2093, 'kalisidare': 2226, 'keluviri': 2257, 'maretare': 2786, 'inde': 1943, 'dodda': 1149, 'nalli': 3189, 'matra': 2822, 'neglet': 3244, 'easily': 1299, 'ijust': 1889, 'dl': 1134, 'craving': 757, 'lightly': 2510, 'custom': 827, 'sac': 3958, 'jiayin': 2155, 'poboxwtgp': 3644, 'forgotten': 1536, 'reverse': 3905, 'cheating': 549, 'mathematics': 2819, 'waxsto': 4759, 'basic': 251, 'yifeng': 4945, 'minimum': 2959, 'ing': 1970, 'dolld': 1172, 'madoke': 2731, 'elaine': 1334, 'interviews': 2011, 'drunken': 1253, 'msgwe': 3124, 'billed': 305, 'nigpun': 3296, 'dismissial': 1120, 'mess': 2910, 'das': 884, 'iknow': 1892, 'crisisspk': 779, 'monster': 3060, 'ths': 4478, 'ias': 1871, 'obey': 3426, 'mb': 2839, 'deltomorrow': 983, 'landlineonly': 2386, 'cameravideo': 473, 'callback': 450, 'lkpoboxhpfl': 2565, 'youwanna': 4973, 'jack': 2101, 'occasion': 3431, 'desires': 1014, 'myparents': 3174, 'katexxx': 2243, 'level': 2484, 'ts': 4580, 'wedding': 4770, 'lingerie': 2533, 'inst': 1989, 'pending': 3571, 'outta': 3520, 'nowadays': 3372, 'notixiquating': 3365, 'laxinorficated': 2427, 'oblisingately': 3428, 'masteriastering': 2809, 'junna': 2210, 'knickers': 2327, 'nikiyunet': 3299, 'accident': 22, 'divert': 1128, 'bloomberg': 340, 'httpcareers': 1848, 'bloombergcom': 341, 'priscillas': 3717, 'dayexcept': 901, 'wisdom': 4823, 'inform': 1961, 'logoff': 2590, 'kent': 2260, 'vale': 4672, 'cannt': 481, 'meetgreet': 2866, 'westlife': 4792, 'unbreakable': 4619, 'untamed': 4639, 'unkempt': 4631, 'mention': 2895, 'dorothykiefercom': 1191, 'granite': 1687, 'strongbuy': 4301, 'explosive': 1412, 'nasdaq': 3200, 'symbol': 4371, 'cdgt': 517, 'moneeppolum': 3048, 'mega': 2872, 'dooms': 1186, 'js': 2194, 'base': 250, 'placement': 3614, 'didnut': 1059, 'nighters': 3290, 'lion': 2538, 'devouring': 1036, 'airtel': 99, 'processed': 3728, 'installation': 1991, 'coughing': 722, 'prolly': 3733, 'yt': 4981, 'mobcudb': 3019, 'jaya': 2126, 'inpersonation': 1982, 'forums': 1540, 'itlet': 2072, 'maximum': 2834, 'nys': 3418, 'lesser': 2476, 'known': 2333, 'mumtaz': 3150, 'mumtazs': 3151, 'okcome': 3473, 'incredible': 1941, 'ofwd': 3463, 'ptxt': 3752, 'ship': 4074, 'maturity': 2830, 'confirmed': 654, 'multiply': 3142, 'independently': 1945, 'decimal': 946, 'ltdhelpdesk': 2676, 'cyclists': 842, 'nalla': 3188, 'nattil': 3208, 'kittum': 2305, 'kavalan': 2245, 'cps': 745, 'causing': 513, 'dubsack': 1261, 'individual': 1951, 'kaypoh': 2247, 'macho': 2723, 'interfued': 2006, 'blank': 324, 'listed': 2547, 'audition': 209, 'zac': 4991, 'tonights': 4533, 'lib': 2489, 'difference': 1069, 'edge': 1314, 'itboth': 2064, 'muchxxlove': 3136, 'locaxx': 2580, 'reschedule': 3885, 'despite': 1019, 'mytonecomenjoy': 3178, 'mfl': 2930, 'fell': 1461, 'swoop': 4367, 'laidwant': 2377, 'doggin': 1158, 'dogs': 1161, 'nownyt': 3376, 'langport': 2391, 'senthil': 4044, 'lanka': 2393, 'merely': 2903, 'forevr': 1531, 'mistakes': 2993, 'vegas': 4684, 'lou': 2638, 'lancaster': 2382, 'neway': 3265, 'couldnaot': 724, 'baoday': 247, 'lobby': 2576, 'texted': 4438, 'vewy': 4690, 'lubly': 2683, 'domain': 1175, 'nusstu': 3408, 'yorge': 4955, 'jump': 2206, 'lateso': 2413, 'morningtake': 3076, 'dreamsu': 1225, 'meummifyingbye': 2928, 'networking': 3258, 'pool': 3663, 'jacuzzi': 2105, 'necesity': 3225, 'irritated': 2043, 'dearloving': 928, 'disconnect': 1110, 'callcoz': 452, 'terrorist': 4431, 'itz': 2088, 'confirmd': 653, 'verified': 4686, 'cnn': 607, 'ibn': 1875, 'hppnss': 1844, 'sorrow': 4201, 'goodfriend': 1667, 'stayed': 4268, 'eaten': 1305, 'mila': 2940, 'blonde': 334, 'mtalk': 3128, 'pptxt': 3689, 'increments': 1942, 'stones': 4282, 'atlast': 203, 'stone': 4281, 'moraldont': 3070, 'mobstorequizppm': 3028, 'delicious': 978, 'desert': 1011, 'funk': 1581, 'tonesu': 4530, 'jocks': 2163, 'nat': 3203, 'nitro': 3310, 'creative': 764, 'funeral': 1580, 'tnc': 4509, 'brah': 382, 'possession': 3670, 'protect': 3744, 'ethreats': 1370, 'sib': 4107, 'sensitive': 4040, 'passwordsatmsms': 3557, 'blu': 343, 'concert': 648, 'november': 3371, 'costapsmax': 713, 'yuou': 4987, 'ipad': 2032, 'lotto': 2635, 'bird': 309, 'ystrdayice': 4980, 'lambu': 2380, 'ji': 2153, 'nowsend': 3381, 'cheese': 556, 'pink': 3608, 'httptms': 1849, 'widelivecomindex': 4806, 'cst': 796, 'ltr': 2679, 'multimedia': 3141, 'accounting': 31, 'delayed': 974, 'nicky': 3285, 'limited': 2522, 'practice': 3693, 'deartake': 935, 'melt': 2883, 'ground': 1698, 'eek': 1322, 'born': 364, 'dontcha': 1182, 'nigh': 3288, 'nooooooo': 3341, 'dengra': 989, 'nightnight': 3291, 'affairs': 77, 'mising': 2978, 'lanre': 2394, 'eckankar': 1311, 'heater': 1767, 'degrees': 969, 'dodgey': 1150, 'calloptout': 461, 'dreamz': 1226, 'nationwide': 3207, 'newport': 3267, 'juliana': 2203, 'nachos': 3181, 'eta': 1368, 'dizzamn': 1132, 'nimbomsons': 3300, 'housewives': 1839, 'btnational': 413, 'landlines': 2387, 'muchimpede': 3135, 'deyi': 1039, 'nose': 3354, 'echo': 1310, 'dial': 1045, 'university': 4630, 'california': 449, 'macleran': 2725, 'mandara': 2771, 'literally': 2555, 'impression': 1921, 'motivate': 3087, 'darkness': 877, 'kothi': 2349, 'meso': 2909, 'meok': 2900, 'noice': 3324, 'occurs': 3435, 'prof': 3729, 'sem': 4032, 'student': 4303, 'kalaachutaarama': 2224, 'kath': 2244, 'manchester': 2768, 'youaore': 4957, 'noworriesloanscom': 3378, 'actual': 52, 'nbme': 3218, 'sathya': 3978, 'dealing': 922, 'muhommad': 3139, 'doc': 1142, 'load': 2572, 'mj': 3001, 'value': 4678, 'absence': 11, 'reasonable': 3824, 'mnth': 3014, 'ladiesu': 2371, 'mens': 2893, 'mjzgroup': 3002, 'msgapsrcvd': 3114, 'jokethet': 2177, 'lineyou': 2532, 'kappa': 2238, 'meatballs': 2857, 'piss': 3609, 'depression': 1003, 'infact': 1955, 'cred': 766, 'isnaot': 2056, 'kip': 2298, 'nannys': 3197, 'conveying': 681, 'debating': 938, 'guessing': 1708, 'jb': 2131, 'teeth': 4414, 'royal': 3941, 'tog': 4517, 'deyhope': 1038, 'daylove': 904, 'misstake': 2988, 'dayhas': 903, 'luvnight': 2701, 'jetton': 2150, 'sticky': 4276, 'dealer': 919, 'lunsford': 2696, 'kfc': 2270, 'meals': 2847, 'dahe': 854, 'daalways': 846, 'messagepandy': 2916, 'mw': 3169, 'mines': 2957, 'michael': 2934, 'cricket': 774, 'daplease': 872, 'drastic': 1216, 'indicate': 1950, 'evry': 1387, 'lay': 2428, 'repeat': 3875, 'loosu': 2618, 'myspace': 3176, 'logged': 2586, 'method': 2927, 'calculation': 447, 'blur': 347, 'clothes': 602, 'jewelry': 2151, 'deluxe': 984, 'lush': 2697, 'dayfind': 902, 'taunton': 4393, 'haiz': 1723, 'nails': 3186, 'nobodys': 3318, 'common': 634, 'greatest': 1692, 'courage': 733, 'bear': 268, 'defeat': 962, 'heartgn': 1765, 'fucked': 1572, 'beauty': 271, 'natalja': 3205, 'wwwsmsacunat': 4900, 'ball': 243, 'moving': 3101, 'million': 2946, 'sunlight': 4333, 'loss': 2627, 'motivating': 3088, 'motherfucker': 3085, 'kit': 2303, 'oja': 3470, 'masked': 2805, 'messagesim': 2918, 'abuse': 15, 'magazine': 2736, 'jogging': 2166, 'loo': 2606, 'shelf': 4068, 'previous': 3710, 'captain': 485, 'mokka': 3039, 'dual': 1259, 'polyh': 3657, 'leafdayno': 2442, 'lemondayno': 2466, 'milkdayno': 2944, 'bone': 352, 'litres': 2556, 'diseases': 1116, 'lavender': 2424, 'manky': 2777, 'inmind': 1975, 'epsilon': 1358, 'mesages': 2907, 'judgementali': 2200, 'notes': 3359, 'deary': 936, 'lst': 2671, 'nitw': 3312, 'jaz': 2129, 'dsnt': 1257, 'mango': 2775, 'massive': 2808, 'involved': 2029, 'landmark': 2388, 'fineabsolutly': 1488, 'polo': 3655, 'wj': 4832, 'mathews': 2820, 'crowd': 784, 'academic': 18, 'lautech': 2423, 'education': 1319, 'zealand': 4992, 'lifeyou': 2503, 'convinced': 683, 'conversations': 678, 'internal': 2007, 'immed': 1908, 'earthsofa': 1296, 'leasttimes': 2447, 'coast': 609, 'ima': 1899, 'messageit': 2913, 'cupboard': 817, 'mro': 3108, 'laready': 2400, 'denying': 995, 'dom': 1174, 'julianaland': 2204, 'oblivious': 3429, 'dehydrated': 970, 'mapquest': 2780, 'dogwood': 1162, 'suppose': 4344, 'mgs': 2931, 'lengths': 2468, 'culdnt': 811, 'explicit': 1411, 'secs': 4020, 'invention': 2019, 'noits': 3327, 'lyrics': 2712, 'nevr': 3263, 'definitly': 966, 'lehhaha': 2462, 'khelate': 2274, 'kintu': 2296, 'dhorte': 1043, 'lage': 2374, 'looovvve': 2615, 'norcorp': 3345, 'ltdapsmtmsgrcvd': 2674, 'linear': 2528, 'decorating': 952, 'cooperative': 693, 'nottingham': 3367, 'mph': 3103, 'clearly': 592, 'mornin': 3073, 'gain': 1587, 'itxx': 2087, 'dirtiest': 1099, 'contribute': 675, 'duvet': 1279, 'realise': 3818, 'itnow': 2077, 'logon': 2591, 'zf': 4996, 'mnths': 3015, 'njan': 3314, 'maths': 2821, 'noooooooo': 3342, 'subscribegbpmnth': 4316, 'stoptxtstop': 4287, 'managed': 2766, 'capital': 483, 'mquiz': 3104, 'acted': 44, 'mis': 2974, 'jeevithathile': 2137, 'irulinae': 2047, 'neekunna': 3240, 'prabha': 3690, 'mns': 3013, 'islove': 2055, 'comedy': 629, 'keypad': 2267, 'decades': 940, 'loyal': 2664, 'customers': 830, 'nottel': 3366, 'print': 3715, 'imat': 1904, 'msgsometext': 3120, 'iriver': 2040, 'dajst': 858, 'dokey': 1169, 'mmmmmmm': 3011, 'error': 1362, 'kanoanyway': 2235, 'misfits': 2977, 'sleepin': 4149, 'minor': 2961, 'minstexts': 2965, 'keng': 2258, 'kafter': 2220, 'offense': 3446, 'dvg': 1281, 'darlinim': 881, 'coolmob': 691, 'niswt': 3306, 'leastwhich': 2448, 'lonlines': 2605, 'lotz': 2637, 'memories': 2889, 'denis': 990, 'mina': 2950, 'miwa': 2999, 'woulda': 4871, 'mth': 3129, 'dolls': 1173, 'santa': 3971, 'miserable': 2976, 'nervous': 3250, 'limping': 2525, 'oga': 3464, 'kill': 2285, 'loosing': 2617, 'defer': 963, 'maat': 2716, 'manageable': 2765, 'shoppin': 4087, 'toopray': 4539, 'inshah': 1986, 'allah': 115, 'increase': 1940, 'iti': 2069, 'north': 3351, 'lovly': 2658, 'messagethanks': 2921, 'customercare': 829, 'lit': 2554, 'loooooool': 2614, 'couch': 719, 'celebration': 521, 'cruel': 788, 'decent': 942, 'joker': 2175, 'dips': 1093, 'nuther': 3409, 'lyricalladief': 2711, 'differences': 1070, 'lists': 2553, 'crisis': 778, 'infections': 1956, 'device': 1034, 'nr': 3388, 'warner': 4746, 'msgticketkioskvalid': 3123, 'kiosk': 2297, 'mre': 3106, 'nhs': 3276, 'mistakeu': 2994, 'inconvenience': 1937, 'dentists': 994, 'henry': 1780, 'margin': 2788, 'itsnot': 2081, 'nonetheless': 3338, 'lips': 2544, 'kkcongratulation': 2311, 'court': 736, 'mountain': 3092, 'deer': 959, 'maili': 2748, 'mailed': 2747, 'membershiptake': 2887, 'select': 4025, 'dialling': 1046, 'woot': 4853, 'dado': 851, 'dining': 1087, 'kaila': 2222, 'donate': 1178, 'disaster': 1105, 'cme': 605, 'parking': 3549, 'cumming': 815, 'jade': 2107, 'dangerous': 870, 'coulda': 723, 'okday': 3474, 'mileage': 2941, 'kits': 2304, 'landing': 2384, 'numberpls': 3400, 'achanammarakheshqatar': 34, 'mountains': 3093, 'niate': 3278, 'noise': 3325, 'sarasota': 3973, 'crossing': 783, 'deepest': 958, 'darkest': 876, 'inconvenient': 1938, 'dudette': 1266, 'cherish': 558, 'natalie': 3204, 'wallpaper': 4734, 'liver': 2560, 'loneliness': 2601, 'mtnl': 3131, 'mumbai': 3145, 'accommodationvouchers': 25, 'mustprovide': 3165, 'dearslp': 934, 'welltake': 4786, 'careswt': 495, 'dreamsmuah': 1224, 'disagreeable': 1102, 'dormitory': 1190, 'motherinlaw': 3086, 'dysentry': 1284, 'lorgoin': 2621, 'diamond': 1048, 'dino': 1090, 'kkthis': 2317, 'kotees': 2348, 'zebra': 4993, 'customersqueriesnetvisionukcom': 831, 'londn': 2599, 'eva': 1374, 'muht': 3140, 'mufti': 3138, 'mahfuuzmeaning': 2744, 'ileave': 1894, 'okors': 3481, 'zeros': 4995, 'joinedso': 2172, 'diapers': 1050, 'dawhere': 898, 'garden': 1600, 'bulbs': 425, 'seeds': 4022, 'scotsman': 4002, 'notxtcouk': 3368, 'karnan': 2240, 'iuve': 2092, 'logging': 2587, 'implications': 1913, 'leg': 2457, 'musta': 3163, 'gastroenteritis': 1604, 'replace': 3876, 'reduce': 3844, 'limiting': 2523, 'illness': 1896, 'nightswe': 3295, 'step': 4274, 'liaotoo': 2488, 'juswoke': 2215, 'docks': 1144, 'mxy': 3171, 'dull': 1268, 'craigslist': 749, 'drmstake': 1241, 'doingwhat': 1166, 'lamp': 2381, 'latebut': 2408, 'kwish': 2359, 'misundrstud': 2995, 'mumhas': 3146, 'moneyi': 3051, 'favorite': 1449, 'marandratha': 2784, 'correctly': 706, 'indianpls': 1948, 'numberrespectful': 3401, 'eggs': 1329, 'jam': 2109, 'costume': 717, 'jerk': 2144, 'bottle': 369, 'amused': 126, 'officestill': 3454, 'mentor': 2898, 'ecstacy': 1312, 'dept': 1004, 'datingi': 892, 'leading': 2440, 'meremove': 2905, 'maintaining': 2752, 'dreading': 1220, 'lands': 2389, 'yoville': 4975, 'counts': 730, 'officer': 3453, 'mls': 3005, 'shu': 4101, 'island': 2053, 'morrowxxxx': 3082, 'ksry': 2351, 'legitimat': 2459, 'cops': 697, 'navigate': 3216, 'mummys': 3148, 'negative': 3242, 'dhoni': 1042, 'li': 2485, 'lecturer': 2454, 'motor': 3090, 'max': 2831, 'ofcourse': 3443, 'loti': 2630, 'marvel': 2802, 'limit': 2521, 'lorwe': 2622, 'meis': 2876, 'liaoso': 2487, 'declare': 951, 'disappointment': 1104, 'irritation': 2046, 'inclu': 1930, 'ler': 2474, 'mouse': 3094, 'desk': 1015, 'jumpers': 2207, 'cribbs': 773, 'influx': 1958, 'kane': 2232, 'dental': 992, 'nmde': 3315, 'dump': 1270, 'lowes': 2662}\n"
     ]
    }
   ],
   "source": [
    "Tfidf_vect = TfidfVectorizer(max_features=5000)\n",
    "Tfidf_vect.fit(df['v2'])\n",
    "\n",
    "train_x_Tdfidf = Tfidf_vect.transform(train_x)\n",
    "test_x_Tdfidf = Tfidf_vect.transform(test_x)\n",
    "print(Tfidf_vect.vocabulary_)"
   ]
  },
  {
   "cell_type": "code",
   "execution_count": 27,
   "metadata": {},
   "outputs": [],
   "source": [
    "target_names = {\n",
    "    'ham', 'spam'\n",
    "}"
   ]
  },
  {
   "cell_type": "markdown",
   "metadata": {},
   "source": [
    "### Naive Bayes"
   ]
  },
  {
   "cell_type": "code",
   "execution_count": 28,
   "metadata": {},
   "outputs": [
    {
     "name": "stdout",
     "output_type": "stream",
     "text": [
      "Naive Bayes Accuracy Score ->  97.66746411483254\n"
     ]
    }
   ],
   "source": [
    "Naive = naive_bayes.MultinomialNB()\n",
    "Naive.fit(train_x_Tdfidf, train_y)\n",
    "\n",
    "predictions_NB = Naive.predict(test_x_Tdfidf)\n",
    "print(\"Naive Bayes Accuracy Score -> \", accuracy_score(predictions_NB, test_y)*100)"
   ]
  },
  {
   "cell_type": "markdown",
   "metadata": {},
   "source": [
    "### Support Vector Machine (SVM)"
   ]
  },
  {
   "cell_type": "code",
   "execution_count": 29,
   "metadata": {},
   "outputs": [
    {
     "name": "stdout",
     "output_type": "stream",
     "text": [
      "SVM Accuracy Score ->  97.48803827751196\n"
     ]
    }
   ],
   "source": [
    "SVM = svm.SVC(kernel='linear')\n",
    "SVM.fit(train_x_Tdfidf, train_y)\n",
    "\n",
    "predictions_SVM = SVM.predict(test_x_Tdfidf)\n",
    "print(\"SVM Accuracy Score -> \", accuracy_score(predictions_SVM, test_y)*100)"
   ]
  }
 ],
 "metadata": {
  "kernelspec": {
   "display_name": "env",
   "language": "python",
   "name": "python3"
  },
  "language_info": {
   "codemirror_mode": {
    "name": "ipython",
    "version": 3
   },
   "file_extension": ".py",
   "mimetype": "text/x-python",
   "name": "python",
   "nbconvert_exporter": "python",
   "pygments_lexer": "ipython3",
   "version": "3.10.12"
  }
 },
 "nbformat": 4,
 "nbformat_minor": 2
}
